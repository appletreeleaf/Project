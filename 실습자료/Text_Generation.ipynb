{
  "nbformat": 4,
  "nbformat_minor": 0,
  "metadata": {
    "kernelspec": {
      "display_name": "Python 3",
      "language": "python",
      "name": "python3"
    },
    "language_info": {
      "codemirror_mode": {
        "name": "ipython",
        "version": 3
      },
      "file_extension": ".py",
      "mimetype": "text/x-python",
      "name": "python",
      "nbconvert_exporter": "python",
      "pygments_lexer": "ipython3",
      "version": "3.8.5"
    },
    "colab": {
      "provenance": [],
      "include_colab_link": true
    },
    "widgets": {
      "application/vnd.jupyter.widget-state+json": {
        "074e7a8c3e8c4a1cacee0464299578c3": {
          "model_module": "@jupyter-widgets/controls",
          "model_name": "HBoxModel",
          "model_module_version": "1.5.0",
          "state": {
            "_dom_classes": [],
            "_model_module": "@jupyter-widgets/controls",
            "_model_module_version": "1.5.0",
            "_model_name": "HBoxModel",
            "_view_count": null,
            "_view_module": "@jupyter-widgets/controls",
            "_view_module_version": "1.5.0",
            "_view_name": "HBoxView",
            "box_style": "",
            "children": [
              "IPY_MODEL_4fed27b15d454db995028ed23535c66c",
              "IPY_MODEL_da474fbf56e24877b29d660b3018085b",
              "IPY_MODEL_4ed72c92d0de4c11a22d542936c6fcfa"
            ],
            "layout": "IPY_MODEL_167cb24635234e15bbb04efddaba0583"
          }
        },
        "4fed27b15d454db995028ed23535c66c": {
          "model_module": "@jupyter-widgets/controls",
          "model_name": "HTMLModel",
          "model_module_version": "1.5.0",
          "state": {
            "_dom_classes": [],
            "_model_module": "@jupyter-widgets/controls",
            "_model_module_version": "1.5.0",
            "_model_name": "HTMLModel",
            "_view_count": null,
            "_view_module": "@jupyter-widgets/controls",
            "_view_module_version": "1.5.0",
            "_view_name": "HTMLView",
            "description": "",
            "description_tooltip": null,
            "layout": "IPY_MODEL_77069048b0be42518b0ba7f7675b267d",
            "placeholder": "​",
            "style": "IPY_MODEL_840048beb46b4fbd9d1d063cda3a9242",
            "value": "Downloading: 100%"
          }
        },
        "da474fbf56e24877b29d660b3018085b": {
          "model_module": "@jupyter-widgets/controls",
          "model_name": "FloatProgressModel",
          "model_module_version": "1.5.0",
          "state": {
            "_dom_classes": [],
            "_model_module": "@jupyter-widgets/controls",
            "_model_module_version": "1.5.0",
            "_model_name": "FloatProgressModel",
            "_view_count": null,
            "_view_module": "@jupyter-widgets/controls",
            "_view_module_version": "1.5.0",
            "_view_name": "ProgressView",
            "bar_style": "success",
            "description": "",
            "description_tooltip": null,
            "layout": "IPY_MODEL_d4783c749d6c4a97bfeee0a7a22d1584",
            "max": 1000,
            "min": 0,
            "orientation": "horizontal",
            "style": "IPY_MODEL_853e2f6c9fa64128aa989da4189c2953",
            "value": 1000
          }
        },
        "4ed72c92d0de4c11a22d542936c6fcfa": {
          "model_module": "@jupyter-widgets/controls",
          "model_name": "HTMLModel",
          "model_module_version": "1.5.0",
          "state": {
            "_dom_classes": [],
            "_model_module": "@jupyter-widgets/controls",
            "_model_module_version": "1.5.0",
            "_model_name": "HTMLModel",
            "_view_count": null,
            "_view_module": "@jupyter-widgets/controls",
            "_view_module_version": "1.5.0",
            "_view_name": "HTMLView",
            "description": "",
            "description_tooltip": null,
            "layout": "IPY_MODEL_55fb213f76714e9eb6da87db785656d2",
            "placeholder": "​",
            "style": "IPY_MODEL_a83b8a9b78b54a6dbe85831bdbf45a2c",
            "value": " 1.00k/1.00k [00:00&lt;00:00, 9.18kB/s]"
          }
        },
        "167cb24635234e15bbb04efddaba0583": {
          "model_module": "@jupyter-widgets/base",
          "model_name": "LayoutModel",
          "model_module_version": "1.2.0",
          "state": {
            "_model_module": "@jupyter-widgets/base",
            "_model_module_version": "1.2.0",
            "_model_name": "LayoutModel",
            "_view_count": null,
            "_view_module": "@jupyter-widgets/base",
            "_view_module_version": "1.2.0",
            "_view_name": "LayoutView",
            "align_content": null,
            "align_items": null,
            "align_self": null,
            "border": null,
            "bottom": null,
            "display": null,
            "flex": null,
            "flex_flow": null,
            "grid_area": null,
            "grid_auto_columns": null,
            "grid_auto_flow": null,
            "grid_auto_rows": null,
            "grid_column": null,
            "grid_gap": null,
            "grid_row": null,
            "grid_template_areas": null,
            "grid_template_columns": null,
            "grid_template_rows": null,
            "height": null,
            "justify_content": null,
            "justify_items": null,
            "left": null,
            "margin": null,
            "max_height": null,
            "max_width": null,
            "min_height": null,
            "min_width": null,
            "object_fit": null,
            "object_position": null,
            "order": null,
            "overflow": null,
            "overflow_x": null,
            "overflow_y": null,
            "padding": null,
            "right": null,
            "top": null,
            "visibility": null,
            "width": null
          }
        },
        "77069048b0be42518b0ba7f7675b267d": {
          "model_module": "@jupyter-widgets/base",
          "model_name": "LayoutModel",
          "model_module_version": "1.2.0",
          "state": {
            "_model_module": "@jupyter-widgets/base",
            "_model_module_version": "1.2.0",
            "_model_name": "LayoutModel",
            "_view_count": null,
            "_view_module": "@jupyter-widgets/base",
            "_view_module_version": "1.2.0",
            "_view_name": "LayoutView",
            "align_content": null,
            "align_items": null,
            "align_self": null,
            "border": null,
            "bottom": null,
            "display": null,
            "flex": null,
            "flex_flow": null,
            "grid_area": null,
            "grid_auto_columns": null,
            "grid_auto_flow": null,
            "grid_auto_rows": null,
            "grid_column": null,
            "grid_gap": null,
            "grid_row": null,
            "grid_template_areas": null,
            "grid_template_columns": null,
            "grid_template_rows": null,
            "height": null,
            "justify_content": null,
            "justify_items": null,
            "left": null,
            "margin": null,
            "max_height": null,
            "max_width": null,
            "min_height": null,
            "min_width": null,
            "object_fit": null,
            "object_position": null,
            "order": null,
            "overflow": null,
            "overflow_x": null,
            "overflow_y": null,
            "padding": null,
            "right": null,
            "top": null,
            "visibility": null,
            "width": null
          }
        },
        "840048beb46b4fbd9d1d063cda3a9242": {
          "model_module": "@jupyter-widgets/controls",
          "model_name": "DescriptionStyleModel",
          "model_module_version": "1.5.0",
          "state": {
            "_model_module": "@jupyter-widgets/controls",
            "_model_module_version": "1.5.0",
            "_model_name": "DescriptionStyleModel",
            "_view_count": null,
            "_view_module": "@jupyter-widgets/base",
            "_view_module_version": "1.2.0",
            "_view_name": "StyleView",
            "description_width": ""
          }
        },
        "d4783c749d6c4a97bfeee0a7a22d1584": {
          "model_module": "@jupyter-widgets/base",
          "model_name": "LayoutModel",
          "model_module_version": "1.2.0",
          "state": {
            "_model_module": "@jupyter-widgets/base",
            "_model_module_version": "1.2.0",
            "_model_name": "LayoutModel",
            "_view_count": null,
            "_view_module": "@jupyter-widgets/base",
            "_view_module_version": "1.2.0",
            "_view_name": "LayoutView",
            "align_content": null,
            "align_items": null,
            "align_self": null,
            "border": null,
            "bottom": null,
            "display": null,
            "flex": null,
            "flex_flow": null,
            "grid_area": null,
            "grid_auto_columns": null,
            "grid_auto_flow": null,
            "grid_auto_rows": null,
            "grid_column": null,
            "grid_gap": null,
            "grid_row": null,
            "grid_template_areas": null,
            "grid_template_columns": null,
            "grid_template_rows": null,
            "height": null,
            "justify_content": null,
            "justify_items": null,
            "left": null,
            "margin": null,
            "max_height": null,
            "max_width": null,
            "min_height": null,
            "min_width": null,
            "object_fit": null,
            "object_position": null,
            "order": null,
            "overflow": null,
            "overflow_x": null,
            "overflow_y": null,
            "padding": null,
            "right": null,
            "top": null,
            "visibility": null,
            "width": null
          }
        },
        "853e2f6c9fa64128aa989da4189c2953": {
          "model_module": "@jupyter-widgets/controls",
          "model_name": "ProgressStyleModel",
          "model_module_version": "1.5.0",
          "state": {
            "_model_module": "@jupyter-widgets/controls",
            "_model_module_version": "1.5.0",
            "_model_name": "ProgressStyleModel",
            "_view_count": null,
            "_view_module": "@jupyter-widgets/base",
            "_view_module_version": "1.2.0",
            "_view_name": "StyleView",
            "bar_color": null,
            "description_width": ""
          }
        },
        "55fb213f76714e9eb6da87db785656d2": {
          "model_module": "@jupyter-widgets/base",
          "model_name": "LayoutModel",
          "model_module_version": "1.2.0",
          "state": {
            "_model_module": "@jupyter-widgets/base",
            "_model_module_version": "1.2.0",
            "_model_name": "LayoutModel",
            "_view_count": null,
            "_view_module": "@jupyter-widgets/base",
            "_view_module_version": "1.2.0",
            "_view_name": "LayoutView",
            "align_content": null,
            "align_items": null,
            "align_self": null,
            "border": null,
            "bottom": null,
            "display": null,
            "flex": null,
            "flex_flow": null,
            "grid_area": null,
            "grid_auto_columns": null,
            "grid_auto_flow": null,
            "grid_auto_rows": null,
            "grid_column": null,
            "grid_gap": null,
            "grid_row": null,
            "grid_template_areas": null,
            "grid_template_columns": null,
            "grid_template_rows": null,
            "height": null,
            "justify_content": null,
            "justify_items": null,
            "left": null,
            "margin": null,
            "max_height": null,
            "max_width": null,
            "min_height": null,
            "min_width": null,
            "object_fit": null,
            "object_position": null,
            "order": null,
            "overflow": null,
            "overflow_x": null,
            "overflow_y": null,
            "padding": null,
            "right": null,
            "top": null,
            "visibility": null,
            "width": null
          }
        },
        "a83b8a9b78b54a6dbe85831bdbf45a2c": {
          "model_module": "@jupyter-widgets/controls",
          "model_name": "DescriptionStyleModel",
          "model_module_version": "1.5.0",
          "state": {
            "_model_module": "@jupyter-widgets/controls",
            "_model_module_version": "1.5.0",
            "_model_name": "DescriptionStyleModel",
            "_view_count": null,
            "_view_module": "@jupyter-widgets/base",
            "_view_module_version": "1.2.0",
            "_view_name": "StyleView",
            "description_width": ""
          }
        },
        "69554f0313b243bf8b1270c346353abe": {
          "model_module": "@jupyter-widgets/controls",
          "model_name": "HBoxModel",
          "model_module_version": "1.5.0",
          "state": {
            "_dom_classes": [],
            "_model_module": "@jupyter-widgets/controls",
            "_model_module_version": "1.5.0",
            "_model_name": "HBoxModel",
            "_view_count": null,
            "_view_module": "@jupyter-widgets/controls",
            "_view_module_version": "1.5.0",
            "_view_name": "HBoxView",
            "box_style": "",
            "children": [
              "IPY_MODEL_dc52b5595fe045b2ba9b6b229da78230",
              "IPY_MODEL_83b49f82051b427c878462116497bc49",
              "IPY_MODEL_9a94a4ea9b264e64a4e1beaffb18d291"
            ],
            "layout": "IPY_MODEL_7fa0e923d3dd431f8ac9ab2ce54c8572"
          }
        },
        "dc52b5595fe045b2ba9b6b229da78230": {
          "model_module": "@jupyter-widgets/controls",
          "model_name": "HTMLModel",
          "model_module_version": "1.5.0",
          "state": {
            "_dom_classes": [],
            "_model_module": "@jupyter-widgets/controls",
            "_model_module_version": "1.5.0",
            "_model_name": "HTMLModel",
            "_view_count": null,
            "_view_module": "@jupyter-widgets/controls",
            "_view_module_version": "1.5.0",
            "_view_name": "HTMLView",
            "description": "",
            "description_tooltip": null,
            "layout": "IPY_MODEL_6c8fc6224bd549038fe9df536d8bdca5",
            "placeholder": "​",
            "style": "IPY_MODEL_8146eb8bff0c46a68bb4629caf952796",
            "value": "Downloading: 100%"
          }
        },
        "83b49f82051b427c878462116497bc49": {
          "model_module": "@jupyter-widgets/controls",
          "model_name": "FloatProgressModel",
          "model_module_version": "1.5.0",
          "state": {
            "_dom_classes": [],
            "_model_module": "@jupyter-widgets/controls",
            "_model_module_version": "1.5.0",
            "_model_name": "FloatProgressModel",
            "_view_count": null,
            "_view_module": "@jupyter-widgets/controls",
            "_view_module_version": "1.5.0",
            "_view_name": "ProgressView",
            "bar_style": "success",
            "description": "",
            "description_tooltip": null,
            "layout": "IPY_MODEL_bc1c195dd2444761b8e1c26944f60e51",
            "max": 513302779,
            "min": 0,
            "orientation": "horizontal",
            "style": "IPY_MODEL_a39f0382739c405788e0bbbe94be1bd4",
            "value": 513302779
          }
        },
        "9a94a4ea9b264e64a4e1beaffb18d291": {
          "model_module": "@jupyter-widgets/controls",
          "model_name": "HTMLModel",
          "model_module_version": "1.5.0",
          "state": {
            "_dom_classes": [],
            "_model_module": "@jupyter-widgets/controls",
            "_model_module_version": "1.5.0",
            "_model_name": "HTMLModel",
            "_view_count": null,
            "_view_module": "@jupyter-widgets/controls",
            "_view_module_version": "1.5.0",
            "_view_name": "HTMLView",
            "description": "",
            "description_tooltip": null,
            "layout": "IPY_MODEL_97c4aae30c034c76bb003d4ab3a78593",
            "placeholder": "​",
            "style": "IPY_MODEL_2fcfb3e49aba402ca5f889e768f6b24a",
            "value": " 513M/513M [00:15&lt;00:00, 29.1MB/s]"
          }
        },
        "7fa0e923d3dd431f8ac9ab2ce54c8572": {
          "model_module": "@jupyter-widgets/base",
          "model_name": "LayoutModel",
          "model_module_version": "1.2.0",
          "state": {
            "_model_module": "@jupyter-widgets/base",
            "_model_module_version": "1.2.0",
            "_model_name": "LayoutModel",
            "_view_count": null,
            "_view_module": "@jupyter-widgets/base",
            "_view_module_version": "1.2.0",
            "_view_name": "LayoutView",
            "align_content": null,
            "align_items": null,
            "align_self": null,
            "border": null,
            "bottom": null,
            "display": null,
            "flex": null,
            "flex_flow": null,
            "grid_area": null,
            "grid_auto_columns": null,
            "grid_auto_flow": null,
            "grid_auto_rows": null,
            "grid_column": null,
            "grid_gap": null,
            "grid_row": null,
            "grid_template_areas": null,
            "grid_template_columns": null,
            "grid_template_rows": null,
            "height": null,
            "justify_content": null,
            "justify_items": null,
            "left": null,
            "margin": null,
            "max_height": null,
            "max_width": null,
            "min_height": null,
            "min_width": null,
            "object_fit": null,
            "object_position": null,
            "order": null,
            "overflow": null,
            "overflow_x": null,
            "overflow_y": null,
            "padding": null,
            "right": null,
            "top": null,
            "visibility": null,
            "width": null
          }
        },
        "6c8fc6224bd549038fe9df536d8bdca5": {
          "model_module": "@jupyter-widgets/base",
          "model_name": "LayoutModel",
          "model_module_version": "1.2.0",
          "state": {
            "_model_module": "@jupyter-widgets/base",
            "_model_module_version": "1.2.0",
            "_model_name": "LayoutModel",
            "_view_count": null,
            "_view_module": "@jupyter-widgets/base",
            "_view_module_version": "1.2.0",
            "_view_name": "LayoutView",
            "align_content": null,
            "align_items": null,
            "align_self": null,
            "border": null,
            "bottom": null,
            "display": null,
            "flex": null,
            "flex_flow": null,
            "grid_area": null,
            "grid_auto_columns": null,
            "grid_auto_flow": null,
            "grid_auto_rows": null,
            "grid_column": null,
            "grid_gap": null,
            "grid_row": null,
            "grid_template_areas": null,
            "grid_template_columns": null,
            "grid_template_rows": null,
            "height": null,
            "justify_content": null,
            "justify_items": null,
            "left": null,
            "margin": null,
            "max_height": null,
            "max_width": null,
            "min_height": null,
            "min_width": null,
            "object_fit": null,
            "object_position": null,
            "order": null,
            "overflow": null,
            "overflow_x": null,
            "overflow_y": null,
            "padding": null,
            "right": null,
            "top": null,
            "visibility": null,
            "width": null
          }
        },
        "8146eb8bff0c46a68bb4629caf952796": {
          "model_module": "@jupyter-widgets/controls",
          "model_name": "DescriptionStyleModel",
          "model_module_version": "1.5.0",
          "state": {
            "_model_module": "@jupyter-widgets/controls",
            "_model_module_version": "1.5.0",
            "_model_name": "DescriptionStyleModel",
            "_view_count": null,
            "_view_module": "@jupyter-widgets/base",
            "_view_module_version": "1.2.0",
            "_view_name": "StyleView",
            "description_width": ""
          }
        },
        "bc1c195dd2444761b8e1c26944f60e51": {
          "model_module": "@jupyter-widgets/base",
          "model_name": "LayoutModel",
          "model_module_version": "1.2.0",
          "state": {
            "_model_module": "@jupyter-widgets/base",
            "_model_module_version": "1.2.0",
            "_model_name": "LayoutModel",
            "_view_count": null,
            "_view_module": "@jupyter-widgets/base",
            "_view_module_version": "1.2.0",
            "_view_name": "LayoutView",
            "align_content": null,
            "align_items": null,
            "align_self": null,
            "border": null,
            "bottom": null,
            "display": null,
            "flex": null,
            "flex_flow": null,
            "grid_area": null,
            "grid_auto_columns": null,
            "grid_auto_flow": null,
            "grid_auto_rows": null,
            "grid_column": null,
            "grid_gap": null,
            "grid_row": null,
            "grid_template_areas": null,
            "grid_template_columns": null,
            "grid_template_rows": null,
            "height": null,
            "justify_content": null,
            "justify_items": null,
            "left": null,
            "margin": null,
            "max_height": null,
            "max_width": null,
            "min_height": null,
            "min_width": null,
            "object_fit": null,
            "object_position": null,
            "order": null,
            "overflow": null,
            "overflow_x": null,
            "overflow_y": null,
            "padding": null,
            "right": null,
            "top": null,
            "visibility": null,
            "width": null
          }
        },
        "a39f0382739c405788e0bbbe94be1bd4": {
          "model_module": "@jupyter-widgets/controls",
          "model_name": "ProgressStyleModel",
          "model_module_version": "1.5.0",
          "state": {
            "_model_module": "@jupyter-widgets/controls",
            "_model_module_version": "1.5.0",
            "_model_name": "ProgressStyleModel",
            "_view_count": null,
            "_view_module": "@jupyter-widgets/base",
            "_view_module_version": "1.2.0",
            "_view_name": "StyleView",
            "bar_color": null,
            "description_width": ""
          }
        },
        "97c4aae30c034c76bb003d4ab3a78593": {
          "model_module": "@jupyter-widgets/base",
          "model_name": "LayoutModel",
          "model_module_version": "1.2.0",
          "state": {
            "_model_module": "@jupyter-widgets/base",
            "_model_module_version": "1.2.0",
            "_model_name": "LayoutModel",
            "_view_count": null,
            "_view_module": "@jupyter-widgets/base",
            "_view_module_version": "1.2.0",
            "_view_name": "LayoutView",
            "align_content": null,
            "align_items": null,
            "align_self": null,
            "border": null,
            "bottom": null,
            "display": null,
            "flex": null,
            "flex_flow": null,
            "grid_area": null,
            "grid_auto_columns": null,
            "grid_auto_flow": null,
            "grid_auto_rows": null,
            "grid_column": null,
            "grid_gap": null,
            "grid_row": null,
            "grid_template_areas": null,
            "grid_template_columns": null,
            "grid_template_rows": null,
            "height": null,
            "justify_content": null,
            "justify_items": null,
            "left": null,
            "margin": null,
            "max_height": null,
            "max_width": null,
            "min_height": null,
            "min_width": null,
            "object_fit": null,
            "object_position": null,
            "order": null,
            "overflow": null,
            "overflow_x": null,
            "overflow_y": null,
            "padding": null,
            "right": null,
            "top": null,
            "visibility": null,
            "width": null
          }
        },
        "2fcfb3e49aba402ca5f889e768f6b24a": {
          "model_module": "@jupyter-widgets/controls",
          "model_name": "DescriptionStyleModel",
          "model_module_version": "1.5.0",
          "state": {
            "_model_module": "@jupyter-widgets/controls",
            "_model_module_version": "1.5.0",
            "_model_name": "DescriptionStyleModel",
            "_view_count": null,
            "_view_module": "@jupyter-widgets/base",
            "_view_module_version": "1.2.0",
            "_view_name": "StyleView",
            "description_width": ""
          }
        },
        "247179f30909401cb756b8bf1fd105c4": {
          "model_module": "@jupyter-widgets/controls",
          "model_name": "HBoxModel",
          "model_module_version": "1.5.0",
          "state": {
            "_dom_classes": [],
            "_model_module": "@jupyter-widgets/controls",
            "_model_module_version": "1.5.0",
            "_model_name": "HBoxModel",
            "_view_count": null,
            "_view_module": "@jupyter-widgets/controls",
            "_view_module_version": "1.5.0",
            "_view_name": "HBoxView",
            "box_style": "",
            "children": [
              "IPY_MODEL_dadb03666f004885be118836eea69bec",
              "IPY_MODEL_a42888d33bfd4633a12736d7d74f8c32",
              "IPY_MODEL_487acf5e5f9c422b977e5a0efcecaa39"
            ],
            "layout": "IPY_MODEL_9256db3a209c4debbde0646351bf7b6e"
          }
        },
        "dadb03666f004885be118836eea69bec": {
          "model_module": "@jupyter-widgets/controls",
          "model_name": "HTMLModel",
          "model_module_version": "1.5.0",
          "state": {
            "_dom_classes": [],
            "_model_module": "@jupyter-widgets/controls",
            "_model_module_version": "1.5.0",
            "_model_name": "HTMLModel",
            "_view_count": null,
            "_view_module": "@jupyter-widgets/controls",
            "_view_module_version": "1.5.0",
            "_view_name": "HTMLView",
            "description": "",
            "description_tooltip": null,
            "layout": "IPY_MODEL_7dac2dd9c55f404ab5138831b96e000f",
            "placeholder": "​",
            "style": "IPY_MODEL_c3fbc35d820b4ac4bc5a703b7bd2e9e5",
            "value": "Downloading: 100%"
          }
        },
        "a42888d33bfd4633a12736d7d74f8c32": {
          "model_module": "@jupyter-widgets/controls",
          "model_name": "FloatProgressModel",
          "model_module_version": "1.5.0",
          "state": {
            "_dom_classes": [],
            "_model_module": "@jupyter-widgets/controls",
            "_model_module_version": "1.5.0",
            "_model_name": "FloatProgressModel",
            "_view_count": null,
            "_view_module": "@jupyter-widgets/controls",
            "_view_module_version": "1.5.0",
            "_view_name": "ProgressView",
            "bar_style": "success",
            "description": "",
            "description_tooltip": null,
            "layout": "IPY_MODEL_bfd3560032764c41a7060e07479e4823",
            "max": 2825034,
            "min": 0,
            "orientation": "horizontal",
            "style": "IPY_MODEL_8aa2f68dd1e347ee8bff6c76e51a1553",
            "value": 2825034
          }
        },
        "487acf5e5f9c422b977e5a0efcecaa39": {
          "model_module": "@jupyter-widgets/controls",
          "model_name": "HTMLModel",
          "model_module_version": "1.5.0",
          "state": {
            "_dom_classes": [],
            "_model_module": "@jupyter-widgets/controls",
            "_model_module_version": "1.5.0",
            "_model_name": "HTMLModel",
            "_view_count": null,
            "_view_module": "@jupyter-widgets/controls",
            "_view_module_version": "1.5.0",
            "_view_name": "HTMLView",
            "description": "",
            "description_tooltip": null,
            "layout": "IPY_MODEL_bc3e5c05a51d4cb88f0c180319bef729",
            "placeholder": "​",
            "style": "IPY_MODEL_3d09ff13296d4e8c822dac2b7b86207e",
            "value": " 2.83M/2.83M [00:00&lt;00:00, 20.4MB/s]"
          }
        },
        "9256db3a209c4debbde0646351bf7b6e": {
          "model_module": "@jupyter-widgets/base",
          "model_name": "LayoutModel",
          "model_module_version": "1.2.0",
          "state": {
            "_model_module": "@jupyter-widgets/base",
            "_model_module_version": "1.2.0",
            "_model_name": "LayoutModel",
            "_view_count": null,
            "_view_module": "@jupyter-widgets/base",
            "_view_module_version": "1.2.0",
            "_view_name": "LayoutView",
            "align_content": null,
            "align_items": null,
            "align_self": null,
            "border": null,
            "bottom": null,
            "display": null,
            "flex": null,
            "flex_flow": null,
            "grid_area": null,
            "grid_auto_columns": null,
            "grid_auto_flow": null,
            "grid_auto_rows": null,
            "grid_column": null,
            "grid_gap": null,
            "grid_row": null,
            "grid_template_areas": null,
            "grid_template_columns": null,
            "grid_template_rows": null,
            "height": null,
            "justify_content": null,
            "justify_items": null,
            "left": null,
            "margin": null,
            "max_height": null,
            "max_width": null,
            "min_height": null,
            "min_width": null,
            "object_fit": null,
            "object_position": null,
            "order": null,
            "overflow": null,
            "overflow_x": null,
            "overflow_y": null,
            "padding": null,
            "right": null,
            "top": null,
            "visibility": null,
            "width": null
          }
        },
        "7dac2dd9c55f404ab5138831b96e000f": {
          "model_module": "@jupyter-widgets/base",
          "model_name": "LayoutModel",
          "model_module_version": "1.2.0",
          "state": {
            "_model_module": "@jupyter-widgets/base",
            "_model_module_version": "1.2.0",
            "_model_name": "LayoutModel",
            "_view_count": null,
            "_view_module": "@jupyter-widgets/base",
            "_view_module_version": "1.2.0",
            "_view_name": "LayoutView",
            "align_content": null,
            "align_items": null,
            "align_self": null,
            "border": null,
            "bottom": null,
            "display": null,
            "flex": null,
            "flex_flow": null,
            "grid_area": null,
            "grid_auto_columns": null,
            "grid_auto_flow": null,
            "grid_auto_rows": null,
            "grid_column": null,
            "grid_gap": null,
            "grid_row": null,
            "grid_template_areas": null,
            "grid_template_columns": null,
            "grid_template_rows": null,
            "height": null,
            "justify_content": null,
            "justify_items": null,
            "left": null,
            "margin": null,
            "max_height": null,
            "max_width": null,
            "min_height": null,
            "min_width": null,
            "object_fit": null,
            "object_position": null,
            "order": null,
            "overflow": null,
            "overflow_x": null,
            "overflow_y": null,
            "padding": null,
            "right": null,
            "top": null,
            "visibility": null,
            "width": null
          }
        },
        "c3fbc35d820b4ac4bc5a703b7bd2e9e5": {
          "model_module": "@jupyter-widgets/controls",
          "model_name": "DescriptionStyleModel",
          "model_module_version": "1.5.0",
          "state": {
            "_model_module": "@jupyter-widgets/controls",
            "_model_module_version": "1.5.0",
            "_model_name": "DescriptionStyleModel",
            "_view_count": null,
            "_view_module": "@jupyter-widgets/base",
            "_view_module_version": "1.2.0",
            "_view_name": "StyleView",
            "description_width": ""
          }
        },
        "bfd3560032764c41a7060e07479e4823": {
          "model_module": "@jupyter-widgets/base",
          "model_name": "LayoutModel",
          "model_module_version": "1.2.0",
          "state": {
            "_model_module": "@jupyter-widgets/base",
            "_model_module_version": "1.2.0",
            "_model_name": "LayoutModel",
            "_view_count": null,
            "_view_module": "@jupyter-widgets/base",
            "_view_module_version": "1.2.0",
            "_view_name": "LayoutView",
            "align_content": null,
            "align_items": null,
            "align_self": null,
            "border": null,
            "bottom": null,
            "display": null,
            "flex": null,
            "flex_flow": null,
            "grid_area": null,
            "grid_auto_columns": null,
            "grid_auto_flow": null,
            "grid_auto_rows": null,
            "grid_column": null,
            "grid_gap": null,
            "grid_row": null,
            "grid_template_areas": null,
            "grid_template_columns": null,
            "grid_template_rows": null,
            "height": null,
            "justify_content": null,
            "justify_items": null,
            "left": null,
            "margin": null,
            "max_height": null,
            "max_width": null,
            "min_height": null,
            "min_width": null,
            "object_fit": null,
            "object_position": null,
            "order": null,
            "overflow": null,
            "overflow_x": null,
            "overflow_y": null,
            "padding": null,
            "right": null,
            "top": null,
            "visibility": null,
            "width": null
          }
        },
        "8aa2f68dd1e347ee8bff6c76e51a1553": {
          "model_module": "@jupyter-widgets/controls",
          "model_name": "ProgressStyleModel",
          "model_module_version": "1.5.0",
          "state": {
            "_model_module": "@jupyter-widgets/controls",
            "_model_module_version": "1.5.0",
            "_model_name": "ProgressStyleModel",
            "_view_count": null,
            "_view_module": "@jupyter-widgets/base",
            "_view_module_version": "1.2.0",
            "_view_name": "StyleView",
            "bar_color": null,
            "description_width": ""
          }
        },
        "bc3e5c05a51d4cb88f0c180319bef729": {
          "model_module": "@jupyter-widgets/base",
          "model_name": "LayoutModel",
          "model_module_version": "1.2.0",
          "state": {
            "_model_module": "@jupyter-widgets/base",
            "_model_module_version": "1.2.0",
            "_model_name": "LayoutModel",
            "_view_count": null,
            "_view_module": "@jupyter-widgets/base",
            "_view_module_version": "1.2.0",
            "_view_name": "LayoutView",
            "align_content": null,
            "align_items": null,
            "align_self": null,
            "border": null,
            "bottom": null,
            "display": null,
            "flex": null,
            "flex_flow": null,
            "grid_area": null,
            "grid_auto_columns": null,
            "grid_auto_flow": null,
            "grid_auto_rows": null,
            "grid_column": null,
            "grid_gap": null,
            "grid_row": null,
            "grid_template_areas": null,
            "grid_template_columns": null,
            "grid_template_rows": null,
            "height": null,
            "justify_content": null,
            "justify_items": null,
            "left": null,
            "margin": null,
            "max_height": null,
            "max_width": null,
            "min_height": null,
            "min_width": null,
            "object_fit": null,
            "object_position": null,
            "order": null,
            "overflow": null,
            "overflow_x": null,
            "overflow_y": null,
            "padding": null,
            "right": null,
            "top": null,
            "visibility": null,
            "width": null
          }
        },
        "3d09ff13296d4e8c822dac2b7b86207e": {
          "model_module": "@jupyter-widgets/controls",
          "model_name": "DescriptionStyleModel",
          "model_module_version": "1.5.0",
          "state": {
            "_model_module": "@jupyter-widgets/controls",
            "_model_module_version": "1.5.0",
            "_model_name": "DescriptionStyleModel",
            "_view_count": null,
            "_view_module": "@jupyter-widgets/base",
            "_view_module_version": "1.2.0",
            "_view_name": "StyleView",
            "description_width": ""
          }
        }
      }
    }
  },
  "cells": [
    {
      "cell_type": "markdown",
      "metadata": {
        "id": "view-in-github",
        "colab_type": "text"
      },
      "source": [
        "<a href=\"https://colab.research.google.com/github/appletreeleaf/NLP_Projects/blob/main/Text_Generation.ipynb\" target=\"_parent\"><img src=\"https://colab.research.google.com/assets/colab-badge.svg\" alt=\"Open In Colab\"/></a>"
      ]
    },
    {
      "cell_type": "markdown",
      "metadata": {
        "id": "Ms57zoghuNDp"
      },
      "source": [
        "##**10. Text Generation**\n",
        "1. Pretrained Model을 이용해 Text를 generation 하는 model을 구현합니다.\n",
        "2. 실제 데이터셋을 가지고 모델을 학습해봅니다.\n",
        "3. 다양한 decoding strategy를 이용하여 text를 생성해봅니다."
      ]
    },
    {
      "cell_type": "code",
      "metadata": {
        "id": "GZA8dewtuNDs",
        "outputId": "81835731-91a2-4509-d08a-6a9f5e1db8da",
        "colab": {
          "base_uri": "https://localhost:8080/"
        }
      },
      "source": [
        "!pip install transformers==4.9.2"
      ],
      "execution_count": null,
      "outputs": [
        {
          "output_type": "stream",
          "name": "stdout",
          "text": [
            "Looking in indexes: https://pypi.org/simple, https://us-python.pkg.dev/colab-wheels/public/simple/\n",
            "Collecting transformers==4.9.2\n",
            "  Downloading transformers-4.9.2-py3-none-any.whl (2.6 MB)\n",
            "\u001b[2K     \u001b[90m━━━━━━━━━━━━━━━━━━━━━━━━━━━━━━━━━━━━━━━━\u001b[0m \u001b[32m2.6/2.6 MB\u001b[0m \u001b[31m12.6 MB/s\u001b[0m eta \u001b[36m0:00:00\u001b[0m\n",
            "\u001b[?25hRequirement already satisfied: tqdm>=4.27 in /usr/local/lib/python3.8/dist-packages (from transformers==4.9.2) (4.64.1)\n",
            "Collecting huggingface-hub==0.0.12\n",
            "  Downloading huggingface_hub-0.0.12-py3-none-any.whl (37 kB)\n",
            "Requirement already satisfied: numpy>=1.17 in /usr/local/lib/python3.8/dist-packages (from transformers==4.9.2) (1.22.4)\n",
            "Requirement already satisfied: requests in /usr/local/lib/python3.8/dist-packages (from transformers==4.9.2) (2.25.1)\n",
            "Requirement already satisfied: filelock in /usr/local/lib/python3.8/dist-packages (from transformers==4.9.2) (3.9.0)\n",
            "Requirement already satisfied: packaging in /usr/local/lib/python3.8/dist-packages (from transformers==4.9.2) (23.0)\n",
            "Requirement already satisfied: regex!=2019.12.17 in /usr/local/lib/python3.8/dist-packages (from transformers==4.9.2) (2022.6.2)\n",
            "Collecting tokenizers<0.11,>=0.10.1\n",
            "  Downloading tokenizers-0.10.3-cp38-cp38-manylinux_2_5_x86_64.manylinux1_x86_64.manylinux_2_12_x86_64.manylinux2010_x86_64.whl (3.3 MB)\n",
            "\u001b[2K     \u001b[90m━━━━━━━━━━━━━━━━━━━━━━━━━━━━━━━━━━━━━━━━\u001b[0m \u001b[32m3.3/3.3 MB\u001b[0m \u001b[31m39.8 MB/s\u001b[0m eta \u001b[36m0:00:00\u001b[0m\n",
            "\u001b[?25hCollecting sacremoses\n",
            "  Downloading sacremoses-0.0.53.tar.gz (880 kB)\n",
            "\u001b[2K     \u001b[90m━━━━━━━━━━━━━━━━━━━━━━━━━━━━━━━━━━━━━━\u001b[0m \u001b[32m880.6/880.6 KB\u001b[0m \u001b[31m30.6 MB/s\u001b[0m eta \u001b[36m0:00:00\u001b[0m\n",
            "\u001b[?25h  Preparing metadata (setup.py) ... \u001b[?25l\u001b[?25hdone\n",
            "Requirement already satisfied: pyyaml>=5.1 in /usr/local/lib/python3.8/dist-packages (from transformers==4.9.2) (6.0)\n",
            "Requirement already satisfied: typing-extensions in /usr/local/lib/python3.8/dist-packages (from huggingface-hub==0.0.12->transformers==4.9.2) (4.5.0)\n",
            "Requirement already satisfied: certifi>=2017.4.17 in /usr/local/lib/python3.8/dist-packages (from requests->transformers==4.9.2) (2022.12.7)\n",
            "Requirement already satisfied: idna<3,>=2.5 in /usr/local/lib/python3.8/dist-packages (from requests->transformers==4.9.2) (2.10)\n",
            "Requirement already satisfied: chardet<5,>=3.0.2 in /usr/local/lib/python3.8/dist-packages (from requests->transformers==4.9.2) (4.0.0)\n",
            "Requirement already satisfied: urllib3<1.27,>=1.21.1 in /usr/local/lib/python3.8/dist-packages (from requests->transformers==4.9.2) (1.24.3)\n",
            "Requirement already satisfied: six in /usr/local/lib/python3.8/dist-packages (from sacremoses->transformers==4.9.2) (1.15.0)\n",
            "Requirement already satisfied: click in /usr/local/lib/python3.8/dist-packages (from sacremoses->transformers==4.9.2) (7.1.2)\n",
            "Requirement already satisfied: joblib in /usr/local/lib/python3.8/dist-packages (from sacremoses->transformers==4.9.2) (1.2.0)\n",
            "Building wheels for collected packages: sacremoses\n",
            "  Building wheel for sacremoses (setup.py) ... \u001b[?25l\u001b[?25hdone\n",
            "  Created wheel for sacremoses: filename=sacremoses-0.0.53-py3-none-any.whl size=895260 sha256=e35a432c6dddf3f64e1061f49aef1e78560fd309ddbee89c29000c8227ea3392\n",
            "  Stored in directory: /root/.cache/pip/wheels/82/ab/9b/c15899bf659ba74f623ac776e861cf2eb8608c1825ddec66a4\n",
            "Successfully built sacremoses\n",
            "Installing collected packages: tokenizers, sacremoses, huggingface-hub, transformers\n",
            "Successfully installed huggingface-hub-0.0.12 sacremoses-0.0.53 tokenizers-0.10.3 transformers-4.9.2\n"
          ]
        }
      ]
    },
    {
      "cell_type": "code",
      "metadata": {
        "id": "KjXsPeEmuNDt"
      },
      "source": [
        "import torch\n",
        "from transformers import GPT2LMHeadModel, PreTrainedTokenizerFast"
      ],
      "execution_count": null,
      "outputs": []
    },
    {
      "cell_type": "code",
      "metadata": {
        "id": "ejK--Ti8uNDt"
      },
      "source": [
        "import numpy as np\n",
        "import random\n",
        "\n",
        "def set_seed(random_seed):\n",
        "    torch.random.manual_seed(random_seed)\n",
        "    torch.manual_seed(random_seed)\n",
        "    torch.cuda.manual_seed(random_seed)\n",
        "    torch.backends.cudnn.deterministic = True\n",
        "    torch.backends.cudnn.benchmark = False\n",
        "    np.random.seed(random_seed)\n",
        "    random.seed(random_seed)\n"
      ],
      "execution_count": null,
      "outputs": []
    },
    {
      "cell_type": "code",
      "metadata": {
        "id": "vHDikSuCuNDu"
      },
      "source": [
        "set_seed(777)"
      ],
      "execution_count": null,
      "outputs": []
    },
    {
      "cell_type": "code",
      "metadata": {
        "id": "M7FjE7qMuNDu",
        "outputId": "f126948a-987d-4c80-ea7e-230480156970",
        "colab": {
          "base_uri": "https://localhost:8080/",
          "height": 165,
          "referenced_widgets": [
            "074e7a8c3e8c4a1cacee0464299578c3",
            "4fed27b15d454db995028ed23535c66c",
            "da474fbf56e24877b29d660b3018085b",
            "4ed72c92d0de4c11a22d542936c6fcfa",
            "167cb24635234e15bbb04efddaba0583",
            "77069048b0be42518b0ba7f7675b267d",
            "840048beb46b4fbd9d1d063cda3a9242",
            "d4783c749d6c4a97bfeee0a7a22d1584",
            "853e2f6c9fa64128aa989da4189c2953",
            "55fb213f76714e9eb6da87db785656d2",
            "a83b8a9b78b54a6dbe85831bdbf45a2c",
            "69554f0313b243bf8b1270c346353abe",
            "dc52b5595fe045b2ba9b6b229da78230",
            "83b49f82051b427c878462116497bc49",
            "9a94a4ea9b264e64a4e1beaffb18d291",
            "7fa0e923d3dd431f8ac9ab2ce54c8572",
            "6c8fc6224bd549038fe9df536d8bdca5",
            "8146eb8bff0c46a68bb4629caf952796",
            "bc1c195dd2444761b8e1c26944f60e51",
            "a39f0382739c405788e0bbbe94be1bd4",
            "97c4aae30c034c76bb003d4ab3a78593",
            "2fcfb3e49aba402ca5f889e768f6b24a",
            "247179f30909401cb756b8bf1fd105c4",
            "dadb03666f004885be118836eea69bec",
            "a42888d33bfd4633a12736d7d74f8c32",
            "487acf5e5f9c422b977e5a0efcecaa39",
            "9256db3a209c4debbde0646351bf7b6e",
            "7dac2dd9c55f404ab5138831b96e000f",
            "c3fbc35d820b4ac4bc5a703b7bd2e9e5",
            "bfd3560032764c41a7060e07479e4823",
            "8aa2f68dd1e347ee8bff6c76e51a1553",
            "bc3e5c05a51d4cb88f0c180319bef729",
            "3d09ff13296d4e8c822dac2b7b86207e"
          ]
        }
      },
      "source": [
        "model = GPT2LMHeadModel.from_pretrained('skt/kogpt2-base-v2')\n",
        "tokenizer = PreTrainedTokenizerFast.from_pretrained(\"skt/kogpt2-base-v2\", bos_token='</s>', eos_token='</s>', unk_token='<unk>',\n",
        "  pad_token='<pad>', mask_token='<mask>')"
      ],
      "execution_count": null,
      "outputs": [
        {
          "output_type": "display_data",
          "data": {
            "text/plain": [
              "Downloading:   0%|          | 0.00/1.00k [00:00<?, ?B/s]"
            ],
            "application/vnd.jupyter.widget-view+json": {
              "version_major": 2,
              "version_minor": 0,
              "model_id": "074e7a8c3e8c4a1cacee0464299578c3"
            }
          },
          "metadata": {}
        },
        {
          "output_type": "display_data",
          "data": {
            "text/plain": [
              "Downloading:   0%|          | 0.00/513M [00:00<?, ?B/s]"
            ],
            "application/vnd.jupyter.widget-view+json": {
              "version_major": 2,
              "version_minor": 0,
              "model_id": "69554f0313b243bf8b1270c346353abe"
            }
          },
          "metadata": {}
        },
        {
          "output_type": "display_data",
          "data": {
            "text/plain": [
              "Downloading:   0%|          | 0.00/2.83M [00:00<?, ?B/s]"
            ],
            "application/vnd.jupyter.widget-view+json": {
              "version_major": 2,
              "version_minor": 0,
              "model_id": "247179f30909401cb756b8bf1fd105c4"
            }
          },
          "metadata": {}
        },
        {
          "output_type": "stream",
          "name": "stderr",
          "text": [
            "The tokenizer class you load from this checkpoint is not the same type as the class this function is called from. It may result in unexpected tokenization. \n",
            "The tokenizer class you load from this checkpoint is 'GPT2Tokenizer'. \n",
            "The class this function is called from is 'PreTrainedTokenizerFast'.\n"
          ]
        }
      ]
    },
    {
      "cell_type": "code",
      "metadata": {
        "id": "MiZH_qkGuNDv"
      },
      "source": [
        "text = '근육이 커지기 위해서는'\n",
        "input_ids = tokenizer.encode(text)\n",
        "gen_ids = model.generate(torch.tensor([input_ids]),\n",
        "                           max_length=50,repetition_penalty=1.0,\n",
        "                           top_k=5,\n",
        "                           temperature=1.0,\n",
        "                           pad_token_id=tokenizer.pad_token_id,\n",
        "                           eos_token_id=tokenizer.eos_token_id,\n",
        "                           bos_token_id=tokenizer.bos_token_id)"
      ],
      "execution_count": null,
      "outputs": []
    },
    {
      "cell_type": "code",
      "metadata": {
        "id": "YwyDgyC8uNDw",
        "outputId": "50112f41-42c1-4c40-e274-9f5efc8244f1",
        "colab": {
          "base_uri": "https://localhost:8080/"
        }
      },
      "source": [
        "generated = tokenizer.decode(gen_ids[0,:].tolist())\n",
        "print(generated)"
      ],
      "execution_count": null,
      "outputs": [
        {
          "output_type": "stream",
          "name": "stdout",
          "text": [
            "근육이 커지기 위해서는 무엇보다 규칙적인 생활습관이 중요하다.\n",
            "특히, 아침식사는 단백질과 비타민, 무기질 등 영양소가 풍부한 음식을 골고루 섭취하는 것이 좋다.\n",
            "또한 규칙적인 운동은 근육을 강화시켜주는 효과가 있다.\n",
            "특히, 아침식사는 단백질과 비타민\n"
          ]
        }
      ]
    },
    {
      "cell_type": "markdown",
      "metadata": {
        "id": "6DMYgGHFuNDw"
      },
      "source": [
        "## Likelihood-based Decoding\n",
        "\n",
        "* Greedy Search\n",
        "* Beam Search"
      ]
    },
    {
      "cell_type": "code",
      "metadata": {
        "id": "glpWw8vxuNDx"
      },
      "source": [
        "def greedy(logits):\n",
        "    return torch.argmax(logits, dim=-1, keepdim=True)"
      ],
      "execution_count": null,
      "outputs": []
    },
    {
      "cell_type": "code",
      "metadata": {
        "id": "rH_Wjo0vuNDx"
      },
      "source": [
        "class SamplerBase:\n",
        "    def __init__(self, model, seq_length):\n",
        "        self.model = model\n",
        "        self.seq_length = seq_length\n",
        "\n",
        "    def sample(self, inps, past):\n",
        "        return NotImplementedError"
      ],
      "execution_count": null,
      "outputs": []
    },
    {
      "cell_type": "code",
      "metadata": {
        "id": "2jX1NiWzuNDx"
      },
      "source": [
        "from copy import deepcopy"
      ],
      "execution_count": null,
      "outputs": []
    },
    {
      "cell_type": "markdown",
      "metadata": {
        "id": "XACVQ6rbuNDy"
      },
      "source": [
        "## Greedy Search Decoding"
      ]
    },
    {
      "cell_type": "code",
      "metadata": {
        "id": "7nc_mX7huNDy"
      },
      "source": [
        "\n",
        "def greedy(logits):\n",
        "    return torch.argmax(logits, dim=-1, keepdim=True)\n",
        "\n",
        "class GreedySampler(SamplerBase):\n",
        "    def __init__(self, model, seq_length, top_whatever, stochastic=False, temperature: float = 1.0):\n",
        "        \"\"\"\n",
        "        :param model:\n",
        "        :param seq_length:\n",
        "        :param stochastic: choice [top_k,top_p] if True\n",
        "        \"\"\"\n",
        "        super(GreedySampler, self).__init__(model, seq_length)\n",
        "        super(GreedySampler, self).__init__(model, seq_length)\n",
        "        rmeo du. gkadl ehldjwndh\n",
        "\n",
        "        self.sampling = greedy\n",
        "\n",
        "    @torch.no_grad()\n",
        "    def sample(self, inps):\n",
        "        inps=torch.LongTensor([inps])\n",
        "        context = inps\n",
        "        generated = deepcopy(inps)\n",
        "        past = None\n",
        "\n",
        "        for t in range(0, self.seq_length):\n",
        "            out = self.model(context, past_key_values=past)\n",
        "            lm_logits,past= out[\"logits\"],out[\"past_key_values\"]\n",
        "\n",
        "            lm_logits = lm_logits[:, -1]\n",
        "\n",
        "            context = self.sampling(lm_logits)\n",
        "            generated = torch.cat([generated, context], dim=-1)\n",
        "\n",
        "        return generated\n"
      ],
      "execution_count": null,
      "outputs": []
    },
    {
      "cell_type": "markdown",
      "metadata": {
        "id": "F6ybZxruuNDz"
      },
      "source": [
        "## Hugging face Library"
      ]
    },
    {
      "cell_type": "code",
      "metadata": {
        "id": "FDWOcTGCuNDz",
        "outputId": "4737d41f-8830-4a99-911a-bacc7b6411a7",
        "colab": {
          "base_uri": "https://localhost:8080/"
        }
      },
      "source": [
        "gen_ids = model.generate(torch.tensor([input_ids]),max_length=34)\n",
        "\n",
        "generated = tokenizer.decode(gen_ids[0,:].tolist())\n",
        "print(generated)"
      ],
      "execution_count": null,
      "outputs": [
        {
          "output_type": "stream",
          "name": "stdout",
          "text": [
            "근육이 커지기 위해서는 무엇보다 규칙적인 생활습관이 중요하다.\n",
            "특히, 아침식사는 단백질과 비타민, 무기질 등 영양소가 풍부한 음식을 골고루 섭취하는 것이 좋다.\n",
            "또한 규칙적인\n"
          ]
        }
      ]
    },
    {
      "cell_type": "markdown",
      "metadata": {
        "id": "lQbRxH1fuNDz"
      },
      "source": [
        "## 비교해보기"
      ]
    },
    {
      "cell_type": "code",
      "metadata": {
        "id": "1G-2f5oxuNDz",
        "outputId": "3afc9835-e7f4-49f0-9776-cbb59502b3b9",
        "colab": {
          "base_uri": "https://localhost:8080/"
        }
      },
      "source": [
        "\n",
        "sampler=GreedySampler(model,30,1)\n",
        "\n",
        "sampled_ids=sampler.sample(input_ids)\n",
        "\n",
        "generated = tokenizer.decode(sampled_ids[0,:].tolist())\n",
        "print(generated)"
      ],
      "execution_count": null,
      "outputs": [
        {
          "output_type": "stream",
          "name": "stdout",
          "text": [
            "근육이 커지기 위해서는 무엇보다 규칙적인 생활습관이 중요하다.\n",
            "특히, 아침식사는 단백질과 비타민, 무기질 등 영양소가 풍부한 음식을 골고루 섭취하는 것이 좋다.\n",
            "또한 규칙적인\n"
          ]
        }
      ]
    },
    {
      "cell_type": "markdown",
      "metadata": {
        "id": "P8MJS5QcuND0"
      },
      "source": [
        "## Beam Search Decoding"
      ]
    },
    {
      "cell_type": "code",
      "metadata": {
        "id": "9OI_d9rUuND0"
      },
      "source": [
        "class BeamSampler(SamplerBase):\n",
        "    def __init__(self, model, seq_length, beam_size: int = 3, temperature: float = 1.0):\n",
        "        \"\"\"\n",
        "        no version on stochastic mode\n",
        "        :param model:\n",
        "        :param seq_length:\n",
        "        :param top_whatever: int as beam_size\n",
        "        \"\"\"\n",
        "        super(BeamSampler, self).__init__(model, seq_length)\n",
        "        self.temperature = temperature\n",
        "        # if not isinstance(beam_size, int):\n",
        "        #     raise ValueError\n",
        "        self.beam_size = beam_size\n",
        "        self.sampling = greedy\n",
        "\n",
        "    def _set_start_sequence(self, inps):\n",
        "        batch, seq_lens = inps.size()\n",
        "        res = inps[:, None].repeat(1, self.beam_size, 1)  # [batch, beam, l]\n",
        "        res.view(-1, seq_lens)\n",
        "\n",
        "        return res.view(-1, seq_lens)\n",
        "\n",
        "    @torch.no_grad()\n",
        "    def sample(self, inps):\n",
        "        inps=torch.LongTensor([inps])\n",
        "        n_batch, seq_length = inps.size()\n",
        "        context = self._set_start_sequence(inps)\n",
        "        generated = deepcopy(context)\n",
        "        past = None\n",
        "\n",
        "        probs = torch.zeros([n_batch * self.beam_size]).to(context.device)\n",
        "        for t in range(0, self.seq_length):\n",
        "            out = self.model(context, past_key_values=past)\n",
        "            lm_logits,past= out[\"logits\"],out[\"past_key_values\"]\n",
        "#             lm_logits, past = self.model(context, past=past)\n",
        "\n",
        "            lm_logits = lm_logits[:, -1]\n",
        "\n",
        "            context, probs, past, generated = self.beam_sample(lm_logits, probs, t, past, generated)\n",
        "\n",
        "        return generated.cpu()[:, 0], probs\n",
        "\n",
        "    def beam_sample(self, logits, probs, time_step, past, generated):\n",
        "\n",
        "        if time_step == 0:\n",
        "            logits = logits.view(-1, self.beam_size, logits.size()[-1])\n",
        "            probs, preds = self.beam_start(logits, probs)\n",
        "            generated = torch.cat([generated, preds], dim=-1)\n",
        "\n",
        "        else:\n",
        "            logits = logits.view(-1, self.beam_size, logits.size()[-1])\n",
        "            probs, preds, past, generated = self.beam_continue(logits, probs, past, generated)\n",
        "\n",
        "        return preds.view(-1, 1), probs, past, generated\n",
        "\n",
        "    def beam_start(self, logits, probs):\n",
        "        logits = logits / self.temperature\n",
        "        p, i = torch.topk(torch.log_softmax(logits, -1), self.beam_size, -1)  # [batch, beam_size]\n",
        "        i = i.view(-1, self.beam_size, self.beam_size)[:, 0, :].contiguous().view(-1, 1)\n",
        "        p = p.view(-1, self.beam_size, self.beam_size)[:, 0, :].contiguous().view(-1, 1)\n",
        "\n",
        "        probs = probs + p.view(-1)\n",
        "\n",
        "        return probs, i\n",
        "\n",
        "    def beam_continue(self, logits, probs, past, generated):\n",
        "        bs = logits.size(0)\n",
        "        generated = generated.view(bs, self.beam_size, -1)\n",
        "\n",
        "        current_p, indexes = torch.topk(torch.log_softmax(logits, -1), self.beam_size,\n",
        "                                        -1)  # [batch_size, beam_size, beam_size]\n",
        "        probs = probs.view(bs, -1).unsqueeze(-1) + current_p\n",
        "        new_probs = probs.view(bs, -1)\n",
        "\n",
        "        probs, ni = new_probs.topk(self.beam_size, -1)\n",
        "        sampled = indexes.view(bs, -1).gather(1, ni)  # [batch, beam]\n",
        "        group = ni // self.beam_size\n",
        "        ind = torch.arange(bs)[:, None], group\n",
        "        generated = generated[ind]\n",
        "        bs_beam = past[0][0].size(0)\n",
        "\n",
        "        n_head, seq_len, hidden_size = past[0][0].size()[1:]\n",
        "\n",
        "        past = [\n",
        "            (k.view(bs, self.beam_size, n_head, seq_len, hidden_size)[ind].view(bs_beam, n_head, seq_len, hidden_size),\n",
        "             v.view(bs, self.beam_size, n_head, seq_len, hidden_size)[ind].view(bs_beam, n_head, seq_len, hidden_size)) \\\n",
        "            for k, v in past]\n",
        "\n",
        "        # sampled = indexes.view(bs, -1).gather(1, ni)\n",
        "        generated = torch.cat([generated, sampled[:, :, None]], -1)\n",
        "\n",
        "        return probs, sampled.view(-1)[:, None], past, generated\n"
      ],
      "execution_count": null,
      "outputs": []
    },
    {
      "cell_type": "markdown",
      "metadata": {
        "id": "7IAxVMe8uND0"
      },
      "source": [
        "## Huggingface 정답"
      ]
    },
    {
      "cell_type": "code",
      "metadata": {
        "id": "IsB27g1zuND0",
        "outputId": "e02fbef6-bde9-4ad4-8d19-ef7ae06891f1",
        "colab": {
          "base_uri": "https://localhost:8080/"
        }
      },
      "source": [
        "gen_ids = model.generate(torch.tensor([input_ids]),max_length=34,\n",
        "                         num_beams=3,temperature=2.0)\n",
        "generated = tokenizer.decode(gen_ids[0,:].tolist())\n",
        "print(generated)"
      ],
      "execution_count": null,
      "outputs": [
        {
          "output_type": "stream",
          "name": "stdout",
          "text": [
            "근육이 커지기 위해서는 무엇보다 면역력을 높여야 한다.\n",
            "면역력을 높여야 하는 이유다.\n",
            "면역력을 높여야 하는 이유다.\n",
            "면역력을 높여야 하는 이유다.\n",
            "면역력을 높여\n"
          ]
        }
      ]
    },
    {
      "cell_type": "markdown",
      "metadata": {
        "id": "vmODWSZouND1"
      },
      "source": [
        "## 비교해보기"
      ]
    },
    {
      "cell_type": "code",
      "metadata": {
        "id": "GI34DMuquND1",
        "outputId": "72a008e3-3462-498b-dadf-4e123d0abaa4",
        "colab": {
          "base_uri": "https://localhost:8080/"
        }
      },
      "source": [
        "sampler=BeamSampler(model,30,3,temperature=2.0)\n",
        "\n",
        "sampled_ids=sampler.sample(input_ids)[0]\n",
        "\n",
        "generated = tokenizer.decode(sampled_ids[0,:].tolist())\n",
        "print(generated)"
      ],
      "execution_count": null,
      "outputs": [
        {
          "output_type": "stream",
          "name": "stdout",
          "text": [
            "근육이 커지기 위해서는 무엇보다 면역력을 높여야 한다.\n",
            "면역력을 높여야 하는 이유다.\n",
            "면역력을 높여야 하는 이유다.\n",
            "면역력을 높여야 하는 이유다.\n",
            "면역력을 높여\n"
          ]
        }
      ]
    },
    {
      "cell_type": "markdown",
      "metadata": {
        "id": "WPY53wGtuND1"
      },
      "source": [
        "# Stochastic-based Decoding\n",
        "* Top-k sampling\n",
        "\n",
        "* Top-p sampling"
      ]
    },
    {
      "cell_type": "markdown",
      "metadata": {
        "id": "W3T3EuhLuND1"
      },
      "source": [
        "## Hugging face Library"
      ]
    },
    {
      "cell_type": "code",
      "metadata": {
        "id": "1K7XHKYCuND1",
        "outputId": "3a840707-1126-4683-e9c0-7d793b9b839a",
        "colab": {
          "base_uri": "https://localhost:8080/"
        }
      },
      "source": [
        "## top-k sampling\n",
        "\n",
        "gen_ids = model.generate(torch.tensor([input_ids]),max_length=34,\n",
        "                         do_sample=True,top_k=10,temperature=1.0)\n",
        "generated = tokenizer.decode(gen_ids[0,:].tolist())\n",
        "print(generated)"
      ],
      "execution_count": null,
      "outputs": [
        {
          "output_type": "stream",
          "name": "stdout",
          "text": [
            "근육이 커지기 위해서는 무엇보다 피부 타입과 피부 상태에 따른 맞춤형 화장품 사용이 무엇보다 중요하다.\n",
            "또한, 피부에 생기가 도는 것을 방해하는 자외선도 막아주는 게 중요하다.\n",
            "자외선은\n"
          ]
        }
      ]
    },
    {
      "cell_type": "markdown",
      "metadata": {
        "id": "ufub109duND2"
      },
      "source": [
        "* top-p sampling"
      ]
    },
    {
      "cell_type": "code",
      "metadata": {
        "id": "LAQLpZEYuND2",
        "outputId": "77447905-8809-484d-a86f-705e8fd21556",
        "colab": {
          "base_uri": "https://localhost:8080/"
        }
      },
      "source": [
        "## top-k sampling\n",
        "\n",
        "gen_ids = model.generate(torch.tensor([input_ids]),max_length=34,\n",
        "                         do_sample=True,top_p=0.1,temperature=1.0)\n",
        "generated = tokenizer.decode(gen_ids[0,:].tolist())\n",
        "print(generated)"
      ],
      "execution_count": null,
      "outputs": [
        {
          "output_type": "stream",
          "name": "stdout",
          "text": [
            "근육이 커지기 위해서는 무엇보다 영양소가 풍부한 음식을 섭취하는 것이 중요하다.\n",
            "특히, 비타민C가 풍부한 음식은 비타민C가 풍부한 음식을 섭취하는 것이 좋다.\n",
            "비타민C는\n"
          ]
        }
      ]
    },
    {
      "cell_type": "code",
      "metadata": {
        "id": "kEXgO6yMuND2"
      },
      "source": [
        "def top_k_logits(logits, k):\n",
        "    if k == 0:\n",
        "        # no truncation\n",
        "        return logits\n",
        "    else:\n",
        "        values, _ = torch.topk(logits, k=k)\n",
        "        min_values = values[:, -1, None]\n",
        "        return torch.where(\n",
        "            logits < min_values,\n",
        "            torch.ones_like(logits, dtype=logits.dtype) * -1e10,\n",
        "            logits,\n",
        "        )"
      ],
      "execution_count": null,
      "outputs": []
    },
    {
      "cell_type": "code",
      "metadata": {
        "id": "4ou9Nx1vuND2"
      },
      "source": [
        "def top_p_logits(logits, p):\n",
        "    \"\"\"Nucleus sampling\"\"\"\n",
        "    batch = logits.size(0)\n",
        "    sorted_logits, _ = torch.sort(logits, descending=True, dim=-1)\n",
        "    cumulative_probs = torch.cumsum(torch.softmax(sorted_logits, dim=-1), dim=-1)\n",
        "    a = torch.arange(0, batch).to(logits.device)\n",
        "    b = torch.max(torch.sum(cumulative_probs <= p, dim=-1) - 1, torch.Tensor([0]).long().to(logits.device))\n",
        "    min_values = sorted_logits[a, b].to(logits.device)\n",
        "\n",
        "    return torch.where(\n",
        "        logits < min_values[:, None],\n",
        "        torch.ones_like(logits) * -1e10,\n",
        "        logits,\n",
        "    )"
      ],
      "execution_count": null,
      "outputs": []
    },
    {
      "cell_type": "code",
      "metadata": {
        "id": "EkJbqKYWuND2"
      },
      "source": [
        "class StochasticSampler(SamplerBase):\n",
        "    def __init__(self, model, seq_length, top_whatever, stochastic_func, temperature: float = 1.0):\n",
        "        \"\"\"\n",
        "        :param model:\n",
        "        :param seq_length:\n",
        "        :stochastic_func\n",
        "        \"\"\"\n",
        "        super(StochasticSampler, self).__init__(model, seq_length)\n",
        "\n",
        "        self.temperature = temperature\n",
        "        self.top_whatever=top_whatever\n",
        "        self.sampling = stochastic_func\n",
        "\n",
        "\n",
        "    @torch.no_grad()\n",
        "    def sample(self, inps):\n",
        "        inps=torch.LongTensor([inps])\n",
        "        context = inps\n",
        "        generated = deepcopy(inps)\n",
        "        past = None\n",
        "\n",
        "        for t in range(0, self.seq_length):\n",
        "            out = self.model(context, past_key_values=past)\n",
        "            lm_logits,past= out[\"logits\"],out[\"past_key_values\"]\n",
        "            lm_logits = lm_logits / self.temperature\n",
        "            lm_logits = lm_logits[:, -1]\n",
        "            masked_lm_logits = self.sampling(lm_logits, self.top_whatever)\n",
        "            context = torch.multinomial(torch.softmax(masked_lm_logits, -1), 1)\n",
        "            generated = torch.cat([generated, context], dim=-1)\n",
        "\n",
        "        return generated\n"
      ],
      "execution_count": null,
      "outputs": []
    },
    {
      "cell_type": "code",
      "metadata": {
        "id": "T8OZGHJTuND3",
        "outputId": "73c964e2-515a-49a8-9f26-a27ca18bdc8c",
        "colab": {
          "base_uri": "https://localhost:8080/"
        }
      },
      "source": [
        "sampler=StochasticSampler(model,30,10,top_k_logits)\n",
        "sampled_ids=sampler.sample(input_ids)\n",
        "generated = tokenizer.decode(sampled_ids[0,:].tolist())\n",
        "print(generated)"
      ],
      "execution_count": null,
      "outputs": [
        {
          "output_type": "stream",
          "name": "stdout",
          "text": [
            "근육이 커지기 위해서는 피부 노화를 늦추기 위해선 기초 화장품의 양을 줄여야 한다.\n",
            "이때 기초 화장품의 양으로 피부 톤을 고르게 펴주고 주름 개선\n"
          ]
        }
      ]
    },
    {
      "cell_type": "code",
      "metadata": {
        "id": "i6VukDW0uND3",
        "outputId": "786f7fd2-bc46-442e-be1d-a38f376fa895",
        "colab": {
          "base_uri": "https://localhost:8080/"
        }
      },
      "source": [
        "sampler=StochasticSampler(model,30,0.5,top_p_logits)\n",
        "sampled_ids=sampler.sample(input_ids)\n",
        "generated = tokenizer.decode(sampled_ids[0,:].tolist())\n",
        "print(generated)"
      ],
      "execution_count": null,
      "outputs": [
        {
          "output_type": "stream",
          "name": "stdout",
          "text": [
            "근육이 커지기 위해서는 신체가 외부의 자극에 반응하지 않도록 해야 한다.\n",
            "이때 두피에는 피지선이 없어 모발이 굵어지지 않도록 한다.\n",
            "피지선은 모발의 수분\n"
          ]
        }
      ]
    },
    {
      "cell_type": "markdown",
      "metadata": {
        "id": "fshMHi7duND3"
      },
      "source": [
        "## 참고 자료"
      ]
    },
    {
      "cell_type": "markdown",
      "metadata": {
        "id": "ZuGbgtcYuND3"
      },
      "source": [
        "https://huggingface.co/transformers/v2.6.0/quickstart.html#using-the-past\n",
        "\n",
        "https://github.com/pytorch/fairseq/blob/1f7ef9ed1e1061f8c7f88f8b94c7186834398690/fairseq/search.py#L103\n",
        "\n",
        "https://jeongukjae.github.io/posts/cs224n-lecture-15-natural-language-generation/"
      ]
    }
  ]
}
