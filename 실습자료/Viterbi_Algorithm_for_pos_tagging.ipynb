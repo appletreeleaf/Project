{
  "nbformat": 4,
  "nbformat_minor": 0,
  "metadata": {
    "colab": {
      "provenance": [],
      "mount_file_id": "1MYjpOsNtEwaboW2LQ7D-5ybsipOQjWdh",
      "authorship_tag": "ABX9TyOWOpEHTWl+VJFD4zbDGG9R",
      "include_colab_link": true
    },
    "kernelspec": {
      "name": "python3",
      "display_name": "Python 3"
    },
    "language_info": {
      "name": "python"
    }
  },
  "cells": [
    {
      "cell_type": "markdown",
      "metadata": {
        "id": "view-in-github",
        "colab_type": "text"
      },
      "source": [
        "<a href=\"https://colab.research.google.com/github/appletreeleaf/Projects/blob/main/Viterbi_Algorithm_for_pos_tagging.ipynb\" target=\"_parent\"><img src=\"https://colab.research.google.com/assets/colab-badge.svg\" alt=\"Open In Colab\"/></a>"
      ]
    },
    {
      "cell_type": "code",
      "source": [
        "class Viterbi(object):\n",
        "  def __init__(self, datas):\n",
        "      emission, transition, input_text = [], [], []\n",
        "      trans_row, em_row, input_row = 0, 0, 0\n",
        "\n",
        "      # 입력에서 정수부분 추출\n",
        "      for data in datas:\n",
        "        if len(data) == 1:\n",
        "            if trans_row == 0:\n",
        "                trans_row = int(data[0])\n",
        "            elif em_row == 0:\n",
        "                em_row = int(data[0])\n",
        "            elif input_row == 0:\n",
        "                input_row = int(data[0])\n",
        "\n",
        "      print(trans_row, em_row, input_row)\n",
        "      emission  = datas[trans_row+2:trans_row+2+em_row]\n",
        "      print('emission: ', emission)\n",
        "      transition = datas[1:trans_row+1]\n",
        "      print('transition: ', transition)\n",
        "      input_text = datas[-input_row:]\n",
        "      input_text = [data[0].split() for data in input_text]\n",
        "      print('input_text: ', input_text)\n",
        "\n",
        "      # 2-dim matrix\n",
        "      trans_matrix = [l[:2] for l in transition]\n",
        "      print(\"trans_matrix\", trans_matrix)\n",
        "\n",
        "      states = list(set(sum(trans_matrix, [])))\n",
        "      # 스페셜 토큰 제거\n",
        "      del(states[states.index('<s>')])\n",
        "      del(states[states.index('</s>')])\n",
        "      self.states = states\n",
        "\n",
        "\n",
        "\n",
        "\n",
        "      # 단어 발생 확률 체크\n",
        "      dict_em = {}\n",
        "      for row in emission:\n",
        "          try:\n",
        "              dict_em[row[0]]\n",
        "          except:\n",
        "              dict_em[row[0]] = {row[1] : float(row[2])}\n",
        "          else:\n",
        "              dict_em[row[0]][row[1]] = float(row[2])\n",
        "      print(\"emission_dictionary: \", dict_em)\n",
        "      self.dict_em = dict_em\n",
        "\n",
        "      dict_trans = {}\n",
        "      for row in transition:\n",
        "          try:\n",
        "              dict_trans[row[0]]\n",
        "          except:\n",
        "              dict_trans[row[0]] = {row[1] : float(row[2])}\n",
        "          else:\n",
        "              dict_trans[row[0]][row[1]] = float(row[2])\n",
        "\n",
        "      self.dict_trans = dict_trans\n",
        "      self.states = tuple(self.states)\n",
        "      self.input_row = input_row\n",
        "      self.trans_row = trans_row\n",
        "      self.em_row = em_row\n",
        "      self.input_text = input_text\n",
        "      self.transition = transition\n",
        "      self.emission = emission\n",
        "\n",
        "  def decode(self):\n",
        "\n",
        "      delta = [{}]\n",
        "      path = {}\n",
        "      for char in self.input_text:\n",
        "          i = 0\n",
        "          # start_prob\n",
        "          for data in self.dict_trans['<s>']:\n",
        "              delta[0][data] = self.dict_trans['<s>'][data]\n",
        "              path[data] = data\n",
        "          del(self.dict_trans[\"<s>\"])\n",
        "\n",
        "          for t,node in enumerate(char):\n",
        "              t = t+1\n",
        "              if len(char) <= t:\n",
        "                  break\n",
        "\n",
        "              delta.append({})\n",
        "              new_path = {}\n",
        "\n",
        "              # calculate\n",
        "              for y in self.states:\n",
        "                (probability, where) = max((delta[t-1][da] * self.dict_trans[da][y] * self.dict_em[y][char[t]], da) for da in self.states)\n",
        "                delta[t][y] = probability\n",
        "\n",
        "                try:\n",
        "                    new_path[y] = (path[where]) + [y]\n",
        "                except:\n",
        "                    new_path[y] = [(path[where])] + [y]\n",
        "\n",
        "              path = new_path\n",
        "          t -= 1\n",
        "          (probability, where) = max((delta[t][y], y) for y in self.states)\n",
        "          return (path[where]) #[self.states])"
      ],
      "metadata": {
        "id": "xSbGbhBb09tW"
      },
      "execution_count": null,
      "outputs": []
    },
    {
      "cell_type": "code",
      "source": [
        "import sys\n",
        "from collections import defaultdict\n",
        "\n",
        "#############\n",
        "# functions #\n",
        "#############\n",
        "\n",
        "def eval(output, gold):\n",
        "    \"\"\"\n",
        "    *** 수정하지 마시오\n",
        "    테스트 평가 함수 (테스트 결과를 체크할수 있는 함수입니다.)\n",
        "    :param output:      result of tagging(list of str)\n",
        "    :param gold:        reference of input data(gold data)\n",
        "    :return accuracy:   accuracy of test\n",
        "    \"\"\"\n",
        "    golds = [_.split() for _ in gold]\n",
        "    outs = [_.split() for _ in output]\n",
        "    if len(golds) != len(outs):\n",
        "        print('numbers of sentences are different %d vs %d' % (len(golds), len(outs)), file=sys.stderr)\n",
        "        return False\n",
        "    correct_num = 0\n",
        "    for line_num, (gold, out) in enumerate(zip(golds, outs), start=1):\n",
        "        if len(gold) != len(out):\n",
        "            print('numbers of tokens in %d-th sentence are different %d vs %d' % \\\n",
        "                   (line_num, len(gold), len(out)), file=sys.stderr)\n",
        "            return False\n",
        "        correct_num += sum([(1 if g == o else 0) for g, o in zip(gold, out)])\n",
        "    total_num = sum([len(_) for _ in golds])\n",
        "    accuracy = 100.0 * correct_num / total_num\n",
        "    print('Accuracy: %.1f%%' % accuracy)\n",
        "    return accuracy\n",
        "\n",
        "\n",
        "\n",
        "########\n",
        "# main #\n",
        "########\n",
        "def main(inp, ref):\n",
        "\tseqs = ''\n",
        "\twith open(inp, 'rt') as inp_:\n",
        "\t\tfor seq in inp_:\n",
        "\t\t\tseqs += seq\n",
        "\n",
        "\tseqs = seqs.split(\"\\n\")\n",
        "\n",
        "\t# 띄어쓰기 기준으로 분리된 sequence들을 tab키 기준으로 또 분리시킴\n",
        "\tdatas = ([seq.split(\"\\t\") for seq in seqs])\n",
        "\tviterbi = Viterbi(datas)\n",
        "\tprint(' '.join(viterbi.decode()))\n",
        "\t# result = [' '.join(viterbi.decode())]\n",
        "\n",
        "\trefs = []\n",
        "\twith open(ref, 'rt') as rh:\n",
        "\t\tfor text in rh.readlines():\n",
        "\t\t\trefs.append(text.strip())\n",
        "\n",
        "\t# if len(result) == len(refs):\n",
        "\t# \t\teval(result, refs)\n",
        "\t# return True\n",
        "\n",
        "if __name__ == '__main__':\n",
        "    # input_file : 입력 텍스트 파일\n",
        "    # ref_file : 레퍼런스 텍스트 파일, 결과값과 비교하여 정확도를 계산하는데 이용합니다.\n",
        "    input_file = '/content/drive/MyDrive/Colab Notebooks/Data/input.txt'\n",
        "    ref_file = \"/content/drive/MyDrive/Colab Notebooks/Data/ref.txt\"\n",
        "\n",
        "    main(input_file, ref_file)"
      ],
      "metadata": {
        "colab": {
          "base_uri": "https://localhost:8080/"
        },
        "id": "drZ1WfXQ0_Cv",
        "outputId": "afaa28a2-0f88-4e7e-d1b3-dd2e3f720bcc"
      },
      "execution_count": null,
      "outputs": [
        {
          "output_type": "stream",
          "name": "stdout",
          "text": [
            "9 4 1\n",
            "emission:  [['A', 'x', '0.4'], ['A', 'y', '0.6'], ['B', 'x', '0.3'], ['B', 'y', '0.7']]\n",
            "transition:  [['<s>', 'A', '0.7'], ['<s>', 'B', '0.3'], ['<s>', '</s>', '0'], ['A', 'A', '0.2'], ['A', 'B', '0.7'], ['A', '</s>', '0.1'], ['B', 'A', '0.7'], ['B', 'B', '0.2'], ['B', '</s>', '0.1']]\n",
            "input_text:  [['x', 'y', 'y', 'x']]\n",
            "trans_matrix [['<s>', 'A'], ['<s>', 'B'], ['<s>', '</s>'], ['A', 'A'], ['A', 'B'], ['A', '</s>'], ['B', 'A'], ['B', 'B'], ['B', '</s>']]\n",
            "emission_dictionary:  {'A': {'x': 0.4, 'y': 0.6}, 'B': {'x': 0.3, 'y': 0.7}}\n",
            "A B A B\n"
          ]
        }
      ]
    },
    {
      "cell_type": "code",
      "source": [
        "refs = []\n",
        "with open(ref_file, 'rt') as rh:\n",
        "\t\tfor text in rh.readlines():\n",
        "\t\t\trefs.append(text.strip())\n",
        "print(refs)"
      ],
      "metadata": {
        "id": "DdPBM2qq8GwM",
        "colab": {
          "base_uri": "https://localhost:8080/"
        },
        "outputId": "d8efd560-21f6-44b8-e233-bc12408c5e23"
      },
      "execution_count": null,
      "outputs": [
        {
          "output_type": "stream",
          "name": "stdout",
          "text": [
            "['A B A']\n"
          ]
        }
      ]
    },
    {
      "cell_type": "code",
      "source": [],
      "metadata": {
        "id": "6vUWL9bSDE-Y"
      },
      "execution_count": null,
      "outputs": []
    }
  ]
}
