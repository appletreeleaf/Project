{
  "cells": [
    {
      "cell_type": "markdown",
      "metadata": {
        "id": "view-in-github",
        "colab_type": "text"
      },
      "source": [
        "<a href=\"https://colab.research.google.com/github/appletreeleaf/Project/blob/main/%EC%8B%A4%EC%8A%B5%EC%9E%90%EB%A3%8C/Semantic_search_with_FAISS_(PyTorch).ipynb\" target=\"_parent\"><img src=\"https://colab.research.google.com/assets/colab-badge.svg\" alt=\"Open In Colab\"/></a>"
      ]
    },
    {
      "cell_type": "markdown",
      "metadata": {
        "id": "cxOGtjI96996"
      },
      "source": [
        "# Semantic search with FAISS (PyTorch)"
      ]
    },
    {
      "cell_type": "markdown",
      "source": [
        "```\n",
        "transformer-based language model에서 text를\n",
        "embedding vector로 표현합니다.\n",
        "이렇게 구한 임베딩 벡터를 dot-product를 통해\n",
        "corpus 내의 단어들과 유사도를 계산할 수 있죠.\n",
        "\n",
        "이번 챕터에서는 임베딩 벡터를 활용한 emantic search engine을\n",
        "구현해보겠습니다.\n",
        "```"
      ],
      "metadata": {
        "id": "VdMK4LTG8FVo"
      }
    },
    {
      "cell_type": "markdown",
      "metadata": {
        "id": "XckIywa0699-"
      },
      "source": [
        "Install the Transformers, Datasets, and Evaluate libraries to run this notebook."
      ]
    },
    {
      "cell_type": "code",
      "execution_count": null,
      "metadata": {
        "id": "IUDHW1qx699-"
      },
      "outputs": [],
      "source": [
        "!pip install datasets evaluate transformers[sentencepiece]\n",
        "!pip install faiss-gpu"
      ]
    },
    {
      "cell_type": "markdown",
      "source": [
        "## Loading and preparing the dataset"
      ],
      "metadata": {
        "id": "AHmoa-vt8Kjf"
      }
    },
    {
      "cell_type": "code",
      "execution_count": null,
      "metadata": {
        "id": "T1s9_CJu69-A"
      },
      "outputs": [],
      "source": [
        "from datasets import load_dataset\n",
        "\n",
        "issues_dataset = load_dataset(\"lewtun/github-issues\", split=\"train\")\n",
        "issues_dataset"
      ]
    },
    {
      "cell_type": "code",
      "source": [
        "issues_dataset"
      ],
      "metadata": {
        "id": "uEoQc1gM9X6g"
      },
      "execution_count": null,
      "outputs": []
    },
    {
      "cell_type": "code",
      "execution_count": null,
      "metadata": {
        "id": "kEAbvIt169-B"
      },
      "outputs": [],
      "source": [
        "issuse_dataset = issues_dataset.filter(lambda x : (x['is_pull_request'] == False and len(x['comments']) > 0))\n",
        "issuse_dataset"
      ]
    },
    {
      "cell_type": "code",
      "execution_count": null,
      "metadata": {
        "id": "gHrAqwQu69-C"
      },
      "outputs": [],
      "source": [
        "columns = issuse_dataset.column_names\n",
        "columns_to_keep = ['title', 'body', 'html_url', 'comments']\n",
        "columns_to_remove = set(columns_to_keep).symmetric_difference(columns)\n",
        "issuse_dataset = issuse_dataset.remove_columns(columns_to_remove)\n",
        "issuse_dataset"
      ]
    },
    {
      "cell_type": "code",
      "execution_count": null,
      "metadata": {
        "id": "WYCZYRJu69-C"
      },
      "outputs": [],
      "source": [
        "issuse_dataset.set_format(\"pandas\")\n",
        "df = issuse_dataset[:]"
      ]
    },
    {
      "cell_type": "markdown",
      "source": [
        "```\n",
        "dataset 형태에서 comments를 한 번 필터링해줬음에도\n",
        "여전히 빈칸이 남아있다..\n",
        "우선 한번 더 필터해주겠습니다.\n",
        "```"
      ],
      "metadata": {
        "id": "BdTErmjw2r-B"
      }
    },
    {
      "cell_type": "code",
      "execution_count": null,
      "metadata": {
        "id": "ZsURh-kz69-D"
      },
      "outputs": [],
      "source": [
        "comments_df = df.explode(\"comments\", ignore_index=True)\n",
        "comments_df.head(4)"
      ]
    },
    {
      "cell_type": "code",
      "execution_count": null,
      "metadata": {
        "id": "Xb1KoLqZ69-D"
      },
      "outputs": [],
      "source": [
        "from datasets import Dataset\n",
        "\n",
        "comments_dataset = Dataset.from_pandas(comments_df)\n",
        "comments_dataset[1]"
      ]
    },
    {
      "cell_type": "markdown",
      "source": [
        "```\n",
        "comments 칼럼에 존재하는 comment들은\n",
        "여러 sequence들이 하나의 리스트로 묶여있습니다.\n",
        "이를 explode함수를 사용해 분할하여 늘어난 row에도\n",
        "html_url, title, comments들을 똑같이 복사해주겠습니다.\n",
        "```"
      ],
      "metadata": {
        "id": "Y5GaG5XOxWhs"
      }
    },
    {
      "cell_type": "markdown",
      "source": [
        "-------------------------------------------"
      ],
      "metadata": {
        "id": "TUMYn8fPy1pn"
      }
    },
    {
      "cell_type": "markdown",
      "source": [
        "### ✏️ Try it out!\n",
        "- See if you can use Dataset.map() to explode the comments column of issues_dataset without resorting to the use of Pandas. This is a little tricky; you might find the “Batch mapping” section of the 🤗 Datasets documentation useful for this task."
      ],
      "metadata": {
        "id": "BLLTq_eJyu-B"
      }
    },
    {
      "cell_type": "code",
      "source": [
        "tmp_dataset = issuse_dataset.map(lambda batch: {\"new_comments\": batch['comments']}, remove_columns=[\"comments\"], batched=True)  # new column with 6 elements: [0, 1, 2, 0, 1, 2]\n",
        "tmp_dataset"
      ],
      "metadata": {
        "id": "BRKz3EV-y4Bv"
      },
      "execution_count": null,
      "outputs": []
    },
    {
      "cell_type": "markdown",
      "source": [
        "-------------------------------------------"
      ],
      "metadata": {
        "id": "qJbb6ElWy3on"
      }
    },
    {
      "cell_type": "code",
      "execution_count": null,
      "metadata": {
        "id": "YJjV8TkA69-E"
      },
      "outputs": [],
      "source": [
        "comments_dataset = comments_dataset.map(\n",
        "    lambda x: {\"comment_length\": len(x[\"comments\"].split())}\n",
        ")"
      ]
    },
    {
      "cell_type": "markdown",
      "source": [
        "```\n",
        "comment들의 길이 정보를 담고있는\n",
        "\"comment_length\" 칼럼을 추가해주겠습니다.\n",
        "```"
      ],
      "metadata": {
        "id": "fp1j0jNV40Z5"
      }
    },
    {
      "cell_type": "code",
      "execution_count": null,
      "metadata": {
        "id": "UDT9U2cL69-E"
      },
      "outputs": [],
      "source": [
        "comments_dataset = comments_dataset.filter(lambda x: x[\"comment_length\"] > 15)\n",
        "comments_dataset"
      ]
    },
    {
      "cell_type": "code",
      "execution_count": null,
      "metadata": {
        "id": "68diHXWy69-E"
      },
      "outputs": [],
      "source": [
        "def concatenate_text(examples):\n",
        "    return {\n",
        "        \"text\": examples[\"title\"]\n",
        "        + \" \\n \"\n",
        "        + examples[\"body\"]\n",
        "        + \" \\n \"\n",
        "        + examples[\"comments\"]\n",
        "    }\n",
        "\n",
        "\n",
        "comments_dataset = comments_dataset.map(concatenate_text)\n",
        "comments_dataset"
      ]
    },
    {
      "cell_type": "markdown",
      "source": [
        "```\n",
        "마지막으로 title, body, comments를 concat\n",
        "'text' 칼럼을 추가해주겠습니다.\n",
        "```"
      ],
      "metadata": {
        "id": "iXE6evGR5cyu"
      }
    },
    {
      "cell_type": "code",
      "execution_count": null,
      "metadata": {
        "id": "zSk_C_z769-F"
      },
      "outputs": [],
      "source": [
        "from transformers import AutoTokenizer, AutoModel\n",
        "\n",
        "model_ckpt = \"sentence-transformers/multi-qa-mpnet-base-dot-v1\"\n",
        "tokenizer = AutoTokenizer.from_pretrained(model_ckpt)\n",
        "model = AutoModel.from_pretrained(model_ckpt)"
      ]
    },
    {
      "cell_type": "code",
      "execution_count": null,
      "metadata": {
        "id": "JKx_DQG669-F"
      },
      "outputs": [],
      "source": [
        "import torch\n",
        "\n",
        "device = torch.device(\"cuda\")\n",
        "model.to(device)"
      ]
    },
    {
      "cell_type": "code",
      "execution_count": null,
      "metadata": {
        "id": "tosdNlft69-F"
      },
      "outputs": [],
      "source": [
        "def cls_pooling(model_output):\n",
        "    return model_output.last_hidden_state[:, 0]"
      ]
    },
    {
      "cell_type": "code",
      "execution_count": null,
      "metadata": {
        "id": "HwQklMpD69-F"
      },
      "outputs": [],
      "source": [
        "def get_embeddings(text_list):\n",
        "    encoded_input = tokenizer(\n",
        "        text_list, padding=True, truncation=True, return_tensors=\"pt\"\n",
        "    )\n",
        "    encoded_input = {k: v.to(device) for k, v in encoded_input.items()}\n",
        "    model_output = model(**encoded_input)\n",
        "    return cls_pooling(model_output)"
      ]
    },
    {
      "cell_type": "code",
      "execution_count": null,
      "metadata": {
        "id": "KvkPbb8169-F"
      },
      "outputs": [],
      "source": [
        "embedding = get_embeddings(comments_dataset[\"text\"][0])\n",
        "embedding.shape"
      ]
    },
    {
      "cell_type": "code",
      "execution_count": null,
      "metadata": {
        "id": "zZScJ-G-69-G"
      },
      "outputs": [],
      "source": [
        "embeddings_dataset = comments_dataset.map(\n",
        "    lambda x: {\"embeddings\": get_embeddings(x[\"text\"]).detach().cpu().numpy()[0]}\n",
        ")"
      ]
    },
    {
      "cell_type": "markdown",
      "source": [
        "```\n",
        "FAISS 알고리즘으로 'index'하기 위해\n",
        "임베딩의 format을 array로 변경해줍니다.\n",
        "```"
      ],
      "metadata": {
        "id": "LtjAqZB3_cAz"
      }
    },
    {
      "cell_type": "code",
      "execution_count": null,
      "metadata": {
        "id": "I_a0opJx69-G"
      },
      "outputs": [],
      "source": [
        "embeddings_dataset.add_faiss_index(column=\"embeddings\")"
      ]
    },
    {
      "cell_type": "code",
      "execution_count": null,
      "metadata": {
        "id": "NOgEF2XA69-G"
      },
      "outputs": [],
      "source": [
        "question = \"How can I load a dataset offline?\"\n",
        "question_embedding = get_embeddings([question]).cpu().detach().numpy()\n",
        "question_embedding.shape"
      ]
    },
    {
      "cell_type": "code",
      "execution_count": null,
      "metadata": {
        "id": "gzxjU7VM69-G"
      },
      "outputs": [],
      "source": [
        "scores, samples = embeddings_dataset.get_nearest_examples(\n",
        "    \"embeddings\", question_embedding, k=5\n",
        ")"
      ]
    },
    {
      "cell_type": "code",
      "execution_count": null,
      "metadata": {
        "id": "Px0eJECm69-H"
      },
      "outputs": [],
      "source": [
        "import pandas as pd\n",
        "\n",
        "samples_df = pd.DataFrame.from_dict(samples)\n",
        "samples_df[\"scores\"] = scores\n",
        "samples_df.sort_values(\"scores\", ascending=False, inplace=True)"
      ]
    },
    {
      "cell_type": "code",
      "execution_count": null,
      "metadata": {
        "id": "tVSevQCB69-H"
      },
      "outputs": [],
      "source": [
        "for _, row in samples_df.iterrows():\n",
        "    print(f\"COMMENT: {row.comments}\")\n",
        "    print(f\"SCORE: {row.scores}\")\n",
        "    print(f\"TITLE: {row.title}\")\n",
        "    print(f\"URL: {row.html_url}\")\n",
        "    print(\"=\" * 50)\n",
        "    print()"
      ]
    },
    {
      "cell_type": "code",
      "source": [
        "from huggingface_hub import notebook_login\n",
        "\n",
        "notebook_login()"
      ],
      "metadata": {
        "id": "lbF_21xNF5CB"
      },
      "execution_count": null,
      "outputs": []
    },
    {
      "cell_type": "code",
      "source": [
        "attached_indexes = embeddings_dataset.list_indexes()\n",
        "\n",
        "for index in attached_indexes:\n",
        "    embeddings_dataset.drop_index(index)\n",
        "embeddings_dataset"
      ],
      "metadata": {
        "id": "BWFmHBTfHBzE"
      },
      "execution_count": null,
      "outputs": []
    },
    {
      "cell_type": "code",
      "source": [
        "type(embeddings_dataset)"
      ],
      "metadata": {
        "id": "_TG77yYyIHEs"
      },
      "execution_count": null,
      "outputs": []
    },
    {
      "cell_type": "code",
      "source": [
        "embeddings_dataset.push_to_hub(\"appletreeleaf/refined-github-issues\")"
      ],
      "metadata": {
        "id": "7qIGDJUQHSkq"
      },
      "execution_count": null,
      "outputs": []
    }
  ],
  "metadata": {
    "colab": {
      "provenance": [],
      "gpuType": "T4",
      "include_colab_link": true
    },
    "accelerator": "GPU",
    "language_info": {
      "name": "python"
    },
    "kernelspec": {
      "name": "python3",
      "display_name": "Python 3"
    }
  },
  "nbformat": 4,
  "nbformat_minor": 0
}