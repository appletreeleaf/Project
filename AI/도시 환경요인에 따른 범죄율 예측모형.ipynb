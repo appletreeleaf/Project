{
  "nbformat": 4,
  "nbformat_minor": 0,
  "metadata": {
    "colab": {
      "provenance": [],
      "mount_file_id": "1-liO_ze11sGHprTmnjzdbd354jU-Nwg1",
      "authorship_tag": "ABX9TyMa7xTiqD5RQkLmI//U5AdE",
      "include_colab_link": true
    },
    "kernelspec": {
      "name": "python3",
      "display_name": "Python 3"
    },
    "language_info": {
      "name": "python"
    }
  },
  "cells": [
    {
      "cell_type": "markdown",
      "metadata": {
        "id": "view-in-github",
        "colab_type": "text"
      },
      "source": [
        "<a href=\"https://colab.research.google.com/github/appletreeleaf/Project/blob/main/%EB%8F%84%EC%8B%9C%20%ED%99%98%EA%B2%BD%EC%9A%94%EC%9D%B8%EC%97%90%20%EB%94%B0%EB%A5%B8%20%EB%B2%94%EC%A3%84%EC%9C%A8%20%EC%98%88%EC%B8%A1%EB%AA%A8%ED%98%95.ipynb\" target=\"_parent\"><img src=\"https://colab.research.google.com/assets/colab-badge.svg\" alt=\"Open In Colab\"/></a>"
      ]
    },
    {
      "cell_type": "markdown",
      "source": [
        "## 라이브러리 / 패키지 불러오기"
      ],
      "metadata": {
        "id": "JnCOD-GHE8_b"
      }
    },
    {
      "cell_type": "code",
      "execution_count": null,
      "metadata": {
        "id": "Ogt4iWpvJ91b"
      },
      "outputs": [],
      "source": [
        "from sklearn.model_selection import train_test_split\n",
        "import tensorflow as tf\n",
        "import numpy as np\n",
        "import matplotlib.pyplot as plt\n",
        "import pandas as pd\n",
        "import seaborn as sns\n",
        "\n",
        "\n",
        "from sklearn.model_selection import train_test_split\n",
        "from sklearn.metrics import mean_squared_error\n",
        "from sklearn import linear_model\n",
        "\n"
      ]
    },
    {
      "cell_type": "markdown",
      "source": [
        "## 1. 데이터 불러오기"
      ],
      "metadata": {
        "id": "IrSN2vIDFCyb"
      }
    },
    {
      "cell_type": "code",
      "source": [
        "crime = pd.read_csv(\"/content/drive/MyDrive/ColabNotebooks/AI_start/기말프로젝트/crime (2021 in korea) 수정전.csv\", encoding = 'CP949')\n",
        "crime.tail(10)"
      ],
      "metadata": {
        "id": "0A7xwVZcLoad"
      },
      "execution_count": null,
      "outputs": []
    },
    {
      "cell_type": "markdown",
      "source": [
        "### 데이터 시각화"
      ],
      "metadata": {
        "id": "puUjj_zE3tk2"
      }
    },
    {
      "cell_type": "code",
      "source": [
        "# 범죄발생건 수( Y값 )의 분포\n",
        "plt.title('Original Occurrence Histogram')\n",
        "plt.xticks(rotation=15)\n",
        "sns.histplot(crime['n_crime_occurrence'], kde=True)\n",
        "plt.show()"
      ],
      "metadata": {
        "id": "oKOXF3i417AC"
      },
      "execution_count": null,
      "outputs": []
    },
    {
      "cell_type": "code",
      "source": [
        "# 범죄발생건 수( Y값 ) 로그 변환후의 분포\n",
        "plt.title('Log Transformed Occurrence Histogram')\n",
        "log_SalePrice = np.log1p(crime['n_crime_occurrence'])\n",
        "sns.histplot(log_SalePrice, kde=True)\n",
        "plt.show()"
      ],
      "metadata": {
        "id": "1wtyjjuW2KT0"
      },
      "execution_count": null,
      "outputs": []
    },
    {
      "cell_type": "code",
      "source": [
        "# 3개의 행과 4개의 열을 가진 subplots를 이용. axs는 4x3개의 ax를 가짐.\n",
        "fig, axs = plt.subplots(figsize=(16,8) , ncols=4 , nrows=3) #시각화를 위한 빈종이 생성\n",
        "plt.subplots_adjust(left=0.125, bottom=0.1,  right=0.9, top=0.9, wspace=0.2, hspace=0.35)\n",
        "lm_features = ['n_cctv','n_police','n_substation','n_streetlamp','n_emschool','n_119SC','n_bar','n_park', 'n_SC', 'n_underpass', 'population'] #feature를 빈종이로 생성\n",
        "for i , feature in enumerate(lm_features): #enumerate 인덱스와 인자를 차례로 반환\n",
        "    row = int(i/4) # 0 0 0 0 1 1 1 1 2 2 2 2\n",
        "    col = i%4 # 1 2 3 4 1 2 3 4 1 2 3 4\n",
        "    # 시본의 regplot을 이용해 산점도와 선형 회귀 직선을 함께 표현\n",
        "    sns.regplot(x=feature , y='n_crime_occurrence',data=crime , ax=axs[row][col]) #row, col 순서에 따른 4*2 그림 출력"
      ],
      "metadata": {
        "id": "YI8c5NduTRPh"
      },
      "execution_count": null,
      "outputs": []
    },
    {
      "cell_type": "markdown",
      "source": [
        "# 2. Preprocessing"
      ],
      "metadata": {
        "id": "JDhCwDRtFJPz"
      }
    },
    {
      "cell_type": "code",
      "source": [
        "# #범죄발생건 수( Y값 ) 로그 변환 (y값의 분포를 정규분포에 근사)\n",
        "\n",
        "# original_n_crime_occurrence = crime['n_crime_occurrence']\n",
        "\n",
        "# Dataset에서 X, y 분리\n",
        "y_target = np.log1p(crime['n_crime_occurrence'])\n",
        "\n",
        "X_features = crime.drop('n_crime_occurrence', axis=1, inplace=False)\n",
        "X_features = X_features.drop(['district'], axis=1, inplace=False)  #자치구 칼럼 drop\n",
        "\n",
        "# 피처 스케일링 -> X들간에 scale 차이를 줄이기 위함\n",
        "from sklearn.preprocessing import MinMaxScaler\n",
        "\n",
        "# features 정규화\n",
        "scaler = MinMaxScaler()\n",
        "X_features_scaled = scaler.fit_transform(X_features)"
      ],
      "metadata": {
        "id": "Arj8wfxBX6Jz"
      },
      "execution_count": null,
      "outputs": []
    },
    {
      "cell_type": "markdown",
      "source": [
        "## X(정규화) y(로그변환) 산점도"
      ],
      "metadata": {
        "id": "rbFLq4rXQBIh"
      }
    },
    {
      "cell_type": "code",
      "source": [
        "# 3개의 행과 4개의 열을 가진 subplots를 이용. axs는 4x3개의 ax를 가짐.\n",
        "fig, axs = plt.subplots(figsize=(16,8) , ncols=4 , nrows=3) #시각화를 위한 빈종이 생성\n",
        "plt.subplots_adjust(left=0.125, bottom=0.1,  right=0.9, top=0.9, wspace=0.2, hspace=0.35)\n",
        "lm_features = ['n_cctv','n_police','n_substation','n_streetlamp','n_emschool','n_119SC','n_bar','n_park', 'n_SC', 'n_underpass', 'population'] #feature를 빈종이로 생성\n",
        "X_scaled = pd.DataFrame(scaler.fit_transform(X_features), columns=lm_features)\n",
        "y_log = np.log1p(crime['n_crime_occurrence'])\n",
        "crime_scaled = pd.concat([X_scaled, y_log], axis = 1) # X, y 데이터프레임 열병='\n",
        "\n",
        "for i , feature in enumerate(lm_features): #enumerate 인덱스와 인자를 차례로 반환\n",
        "    row = int(i/4) # 0 0 0 0 1 1 1 1 2 2 2 2\n",
        "    col = i%4 # 1 2 3 4 1 2 3 4 1 2 3 4\n",
        "    # 시본의 regplot을 이용해 산점도와 선형 회귀 직선을 함께 표현\n",
        "    sns.regplot(x=feature , y='n_crime_occurrence',data=crime_scaled , ax=axs[row][col]) #row, col 순서에 따른 4*2 그림 출력"
      ],
      "metadata": {
        "id": "4ggu_rnvNtcW"
      },
      "execution_count": null,
      "outputs": []
    },
    {
      "cell_type": "code",
      "source": [
        "# train / test 분리\n",
        "X_train, X_test, y_train, y_test = train_test_split(X_features_scaled, y_target, test_size=0.25, random_state=156)"
      ],
      "metadata": {
        "id": "ILS9h-cKYW7v"
      },
      "execution_count": null,
      "outputs": []
    },
    {
      "cell_type": "markdown",
      "source": [
        "# 3. 모델 생성"
      ],
      "metadata": {
        "id": "tClrlgjYKr00"
      }
    },
    {
      "cell_type": "code",
      "source": [
        "# 모델 학습\n",
        "from sklearn.linear_model import LinearRegression\n",
        "mlr = LinearRegression()\n",
        "mlr.fit(X_train, y_train, )"
      ],
      "metadata": {
        "id": "PNwV57CYX7Fg"
      },
      "execution_count": null,
      "outputs": []
    },
    {
      "cell_type": "code",
      "source": [
        "# 예측 (log-scale)\n",
        "y_pred = mlr.predict(X_test)\n",
        "y_pred"
      ],
      "metadata": {
        "id": "FKLbDhQsYgyT"
      },
      "execution_count": null,
      "outputs": []
    },
    {
      "cell_type": "markdown",
      "source": [
        "## 실제 값( target )과 예측값( predict ) 사이의 관계 (산점도)"
      ],
      "metadata": {
        "id": "LGK-kRvTRYdv"
      }
    },
    {
      "cell_type": "code",
      "source": [
        "import matplotlib.pyplot as plt\n",
        "plt.scatter(y_test, y_pred, alpha=0.4)\n",
        "plt.xlabel(\"Actual Occurance\")\n",
        "plt.ylabel(\"Predicted Occurance\")\n",
        "plt.title(\"MULTIPLE LINEAR REGRESSION\")\n",
        "plt.show()"
      ],
      "metadata": {
        "id": "AIo-BOlwY6DH"
      },
      "execution_count": null,
      "outputs": []
    },
    {
      "cell_type": "code",
      "source": [
        "mlr.score(X_train, y_train) # R^2 (결정계수 / accuracy와 같은 역할)"
      ],
      "metadata": {
        "id": "9onuoVogbpVv"
      },
      "execution_count": null,
      "outputs": []
    },
    {
      "cell_type": "markdown",
      "source": [
        "# 선형 회귀 모델의 학습/예측/평가\n",
        "* RMSE 평가 함수 생성\n",
        "타겟값을 로그 변환하여, 학습한 모델은 예측값도 원본 데이터에 로그 스케일로 예측함.\n",
        "실제 타겟값도 로그값, 예측값도 로그값이므로 RMSE를 적용하면 자연스럽게 RMSLE로 적용됨."
      ],
      "metadata": {
        "id": "xCKZgBK63MQM"
      }
    },
    {
      "cell_type": "code",
      "source": [
        "# 학습이 완료된 모델을 인자로 받아서 테스트 데이터로 예측하고 RMSE를 계산\n",
        "def get_rmse(model):\n",
        "    pred = model.predict(X_test)\n",
        "    # y_test, pred는 로그 스케일임.\n",
        "    mse = mean_squared_error(y_test , pred)\n",
        "    rmse = np.sqrt(mse)\n",
        "    print('{0} 로그 변환된 RMSE: {1}'.format(model.__class__.__name__,np.round(rmse, 3)))\n",
        "    return rmse\n",
        "\n",
        "# 여러 모델들을 list 형태로 인자로 받아서 개별 모델들의 RMSE를 list로 반환.\n",
        "def get_rmses(models):\n",
        "    rmses = [ ]\n",
        "    for model in models:\n",
        "        rmse = get_rmse(model)\n",
        "        rmses.append(rmse)\n",
        "    return rmses"
      ],
      "metadata": {
        "id": "mUnbjK6qxDDu"
      },
      "execution_count": null,
      "outputs": []
    },
    {
      "cell_type": "markdown",
      "source": [
        "**LinearRegression, Ridge, Lasso 학습, 예측, 평가**"
      ],
      "metadata": {
        "id": "brgh-Pej3XDL"
      }
    },
    {
      "cell_type": "code",
      "source": [
        "from sklearn.linear_model import LinearRegression, Ridge, Lasso\n",
        "from sklearn.model_selection import train_test_split\n",
        "from sklearn.metrics import mean_squared_error\n",
        "\n",
        "# LinearRegression, Ridge, Lasso 학습, 예측, 평가\n",
        "lr_reg = LinearRegression()\n",
        "lr_reg.fit(X_train, y_train)\n",
        "\n",
        "ridge_reg = Ridge(alpha=20)\n",
        "ridge_reg.fit(X_train, y_train)\n",
        "\n",
        "lasso_reg = Lasso(alpha=0.05)\n",
        "lasso_reg.fit(X_train, y_train)\n",
        "\n",
        "models = [lr_reg, ridge_reg, lasso_reg]\n",
        "print(get_rmses(models))\n"
      ],
      "metadata": {
        "id": "4mD6Se7G3VFF"
      },
      "execution_count": null,
      "outputs": []
    },
    {
      "cell_type": "markdown",
      "source": [
        "**회귀 계수값과 컬럼명 시각화를 위해 상위 10개, 하위 10개(-값으로 가장 큰 10개) 회귀 계수값과 컬럼명을 가지는 Series생성 함수.**"
      ],
      "metadata": {
        "id": "XLb-2NY25a5J"
      }
    },
    {
      "cell_type": "code",
      "source": [
        "coef = pd.Series(lasso_reg.coef_, index=X_features.columns)\n",
        "\n",
        "# + 상위 10개 , - 하위 10개 coefficient 추출하여 반환.\n",
        "coef_high = coef.sort_values(ascending=False).head(3)\n",
        "coef_low = coef.sort_values(ascending=False).tail(3)\n",
        "print(coef_high)\n",
        "print('---------------------------------')\n",
        "print(coef_low)"
      ],
      "metadata": {
        "id": "RfEmyNF15cSw"
      },
      "execution_count": null,
      "outputs": []
    },
    {
      "cell_type": "code",
      "source": [
        "from sklearn.model_selection import cross_val_score\n",
        "\n",
        "def get_avg_rmse_cv(models):\n",
        "    for model in models:\n",
        "        # 분할하지 않고 전체 데이터로 cross_val_score( ) 수행. 모델별 CV RMSE값과 평균 RMSE 출력\n",
        "        rmse_list = np.sqrt(-cross_val_score(model, X_features, y_target,\n",
        "                                             scoring=\"neg_mean_squared_error\", cv = 5))\n",
        "        rmse_avg = np.mean(rmse_list)\n",
        "        print('\\n{0} CV RMSE 값 리스트: {1}'.format( model.__class__.__name__, np.round(rmse_list, 3)))\n",
        "        print('{0} CV 평균 RMSE 값: {1}'.format( model.__class__.__name__, np.round(rmse_avg, 3)))\n",
        "\n",
        "# 앞 예제에서 학습한 ridge_reg, lasso_reg 모델의 CV RMSE값 출력\n",
        "models = [lr_reg, ridge_reg, lasso_reg]\n",
        "get_avg_rmse_cv(models)"
      ],
      "metadata": {
        "id": "5BLXDXVt7vm7"
      },
      "execution_count": null,
      "outputs": []
    },
    {
      "cell_type": "code",
      "source": [
        "from sklearn.model_selection import GridSearchCV\n",
        "\n",
        "def print_best_params(model, params):\n",
        "    grid_model = GridSearchCV(model, param_grid=params,\n",
        "                              scoring='neg_mean_squared_error', cv=5)\n",
        "    grid_model.fit(X_features, y_target)\n",
        "    rmse = np.sqrt(-1* grid_model.best_score_)\n",
        "    print('{0} 5 CV 시 최적 평균 RMSE 값: {1}, 최적 alpha:{2}'.format(model.__class__.__name__,\n",
        "                                        np.round(rmse, 4), grid_model.best_params_))\n",
        "    return grid_model.best_estimator_\n",
        "\n",
        "ridge_params = { 'alpha':[0.05, 0.1, 1, 5, 8, 10, 12, 15, 20] }\n",
        "lasso_params = { 'alpha':[0.001, 0.005, 0.008, 0.05, 0.03, 0.1, 0.5, 1,5, 10] }\n",
        "best_rige = print_best_params(ridge_reg, ridge_params)\n",
        "best_lasso = print_best_params(lasso_reg, lasso_params)\n"
      ],
      "metadata": {
        "id": "CuiwbaP48MvQ"
      },
      "execution_count": null,
      "outputs": []
    },
    {
      "cell_type": "code",
      "source": [
        "lasso_reg.score(X_train, y_train) # R-squared (결정계수) -> 학습데이터가 총변동을을 설명해줌."
      ],
      "metadata": {
        "id": "dJwuThb490NH"
      },
      "execution_count": null,
      "outputs": []
    },
    {
      "cell_type": "code",
      "source": [
        "X_train, y_train"
      ],
      "metadata": {
        "id": "hUpWikOQQq2b",
        "collapsed": true
      },
      "execution_count": null,
      "outputs": []
    },
    {
      "cell_type": "markdown",
      "source": [
        "# 번외) Keras를 이용한 다중선형회귀 모형\n"
      ],
      "metadata": {
        "id": "l3UXs2QbT2BX"
      }
    },
    {
      "cell_type": "markdown",
      "source": [
        "Keras 모델 생성 및 학습"
      ],
      "metadata": {
        "id": "dV2rPGgkocLL"
      }
    },
    {
      "cell_type": "code",
      "source": [
        "model = tf.keras.models.Sequential()\n",
        "model.add(tf.keras.layers.Dense(1, input_dim = 11, activation = 'linear'))\n",
        "model.compile(optimizer = 'adam', loss='mse')\n",
        "model.fit(X_train, y_train, batch_size=1, epochs=200)"
      ],
      "metadata": {
        "id": "gTVx3oEmDNO4"
      },
      "execution_count": null,
      "outputs": []
    },
    {
      "cell_type": "code",
      "source": [
        "predictions = model.predict(X_test)\n",
        "test_loss = model.evaluate(X_test, y_test)\n",
        "print( \"Weights = \", model.get_weights() )"
      ],
      "metadata": {
        "id": "43N3Nq5Li0qi"
      },
      "execution_count": null,
      "outputs": []
    },
    {
      "cell_type": "code",
      "source": [
        "pip install nbconvert"
      ],
      "metadata": {
        "id": "4DiDbQ-yYH_M"
      },
      "execution_count": null,
      "outputs": []
    },
    {
      "cell_type": "code",
      "source": [
        "jupyter nbconvert --to markdown 인공지능_GBT_기말프로젝트_1128.ipynb"
      ],
      "metadata": {
        "id": "PKXQQw7jYTPG"
      },
      "execution_count": null,
      "outputs": []
    }
  ]
}
