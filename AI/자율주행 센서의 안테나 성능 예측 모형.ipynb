{
  "cells": [
    {
      "cell_type": "markdown",
      "metadata": {
        "id": "view-in-github",
        "colab_type": "text"
      },
      "source": [
        "<a href=\"https://colab.research.google.com/github/appletreeleaf/Project/blob/main/AI/LGAimers/%EC%9E%90%EC%9C%A8%EC%A3%BC%ED%96%89_%EC%84%BC%EC%84%9C%EC%9D%98_%EC%95%88%ED%85%8C%EB%82%98_%EC%84%B1%EB%8A%A5_%EC%98%88%EC%B8%A1_.ipynb\" target=\"_parent\"><img src=\"https://colab.research.google.com/assets/colab-badge.svg\" alt=\"Open In Colab\"/></a>"
      ]
    },
    {
      "cell_type": "markdown",
      "id": "1d3d2e0d",
      "metadata": {
        "id": "1d3d2e0d"
      },
      "source": [
        " # Project 1. 자율주행 센서의 안테나 성능 예측\n",
        "### Background\n",
        "- 생산 공정 데이터를 활용하여 Radar 센서의 안테나 성능 예측을 위한 AI 모델 개발 (데이콘 competition)\n",
        "\n",
        "### Summary\n",
        "1. Import Libraries / Packages\n",
        "2. Data Manipulation\n",
        "3. Define Model)\n",
        "4. Model Traing\n",
        "5. Validation\n",
        "6. Prediction"
      ]
    },
    {
      "cell_type": "markdown",
      "id": "d0ea670c",
      "metadata": {
        "id": "d0ea670c"
      },
      "source": [
        "## 1. Import Libraries / Packages"
      ]
    },
    {
      "cell_type": "code",
      "execution_count": null,
      "id": "39602e5f",
      "metadata": {
        "id": "39602e5f"
      },
      "outputs": [],
      "source": [
        "import pandas as pd\n",
        "import random\n",
        "import os\n",
        "import numpy as np\n",
        "%matplotlib inline\n",
        "import seaborn as sns\n",
        "import matplotlib.pyplot as plt\n",
        "import xgboost as xgb\n",
        "\n",
        "from sklearn.model_selection import train_test_split\n",
        "from sklearn.metrics import explained_variance_score\n",
        "from sklearn.preprocessing import MinMaxScaler\n",
        "from sklearn.metrics import mean_squared_error , r2_score\n",
        "from sklearn.model_selection import cross_val_score\n",
        "\n",
        "from sklearn.linear_model import LinearRegression\n",
        "from sklearn.multioutput import MultiOutputRegressor\n",
        "from sklearn.tree import DecisionTreeClassifier\n",
        "from sklearn.ensemble import RandomForestClassifier\n",
        "from sklearn.ensemble import RandomForestRegressor"
      ]
    },
    {
      "cell_type": "code",
      "execution_count": null,
      "id": "dee9ba5c",
      "metadata": {
        "id": "dee9ba5c"
      },
      "outputs": [],
      "source": [
        "# Seed 고정\n",
        "\n",
        "def seed_everything(seed):\n",
        "    random.seed(seed)\n",
        "    os.environ['PYTHONHASHSEED'] = str(seed)\n",
        "    np.random.seed(seed)\n",
        "seed_everything(42)"
      ]
    },
    {
      "cell_type": "markdown",
      "id": "36726e89",
      "metadata": {
        "id": "36726e89"
      },
      "source": [
        "## 2. Data manipulation"
      ]
    },
    {
      "cell_type": "code",
      "execution_count": null,
      "id": "2927d21a",
      "metadata": {
        "id": "2927d21a"
      },
      "outputs": [],
      "source": [
        "#raw data 불러오기\n",
        "train_df = pd.read_csv('./train.csv') # features\n",
        "test_df = pd.read_csv('./test.csv') # test"
      ]
    },
    {
      "cell_type": "code",
      "execution_count": null,
      "id": "5b974131",
      "metadata": {
        "id": "5b974131"
      },
      "outputs": [],
      "source": [
        "# feature, label 나누기\n",
        "X_train = train_df.filter(regex='X') # Input : X Featrue\n",
        "y_train = train_df.filter(regex='Y') # Output : Y Feature"
      ]
    },
    {
      "cell_type": "code",
      "execution_count": null,
      "id": "521725f0",
      "metadata": {
        "id": "521725f0"
      },
      "outputs": [],
      "source": [
        "# train셋 안에서 훈련용/검증용 나누기\n",
        "X_tr, X_val, y_tr, y_val = train_test_split(X_train, y_train, test_size=0.1, random_state=156 )"
      ]
    },
    {
      "cell_type": "markdown",
      "id": "954f25f9",
      "metadata": {
        "id": "954f25f9"
      },
      "source": [
        "## 3. Define Model"
      ]
    },
    {
      "cell_type": "code",
      "execution_count": null,
      "id": "81d69af9",
      "metadata": {
        "id": "81d69af9"
      },
      "outputs": [],
      "source": [
        "#Define the estimator\n",
        "estimator = RandomForestRegressor(max_depth = 30,\n",
        "                                  random_state = 156,\n",
        "                                  n_estimators = 800,\n",
        "                                  n_jobs = -1,\n",
        "                                  min_samples_leaf = 8,\n",
        "                                  min_samples_split = 8,\n",
        "                                 )"
      ]
    },
    {
      "cell_type": "code",
      "execution_count": null,
      "id": "f0eb67a6",
      "metadata": {
        "id": "f0eb67a6"
      },
      "outputs": [],
      "source": [
        "# Define the model : MultiOutputRegressor\n",
        "my_model = MultiOutputRegressor(estimator = estimator, n_jobs = -1).fit(X_tr, y_tr) # n_jobs = -1 -> 사용 가능한 모든 프로세스 / 스레드를 사용함을 의미"
      ]
    },
    {
      "cell_type": "markdown",
      "id": "94d0d0e0",
      "metadata": {
        "id": "94d0d0e0"
      },
      "source": [
        "## 4. Model Training"
      ]
    },
    {
      "cell_type": "code",
      "execution_count": null,
      "id": "d1e848a0",
      "metadata": {
        "id": "d1e848a0"
      },
      "outputs": [],
      "source": [
        "# 테스트 데이터 준비\n",
        "X_test = test_df.drop(columns=['ID'])\n",
        "# test_x_scale = scaler.fit_transform(test_x[:])\n",
        "# test_x_scale"
      ]
    },
    {
      "cell_type": "code",
      "execution_count": null,
      "id": "f2dffaf1",
      "metadata": {
        "id": "f2dffaf1"
      },
      "outputs": [],
      "source": [
        "# 1차 predict\n",
        "preds = my_model.predict(X_val)\n",
        "print('Done.')"
      ]
    },
    {
      "cell_type": "markdown",
      "id": "cc3c8338",
      "metadata": {
        "id": "cc3c8338"
      },
      "source": [
        "## 5. Validation"
      ]
    },
    {
      "cell_type": "code",
      "execution_count": null,
      "id": "d388639e",
      "metadata": {
        "id": "d388639e"
      },
      "outputs": [],
      "source": [
        "# 1차 검증\n",
        "mse = mean_squared_error(y_val, preds) #평가척도\n",
        "rmse = np.sqrt(mse) #mean_squared_error함수의 squared=False 옵션으로도 구할 수 있음.\n",
        "\n",
        "print('MSE : {0:.3f} , RMSE : {1:.3F}'.format(mse , rmse))\n",
        "print('Variance score : {0:.3f}'.format(r2_score(y_val, preds))) #결정계수"
      ]
    },
    {
      "cell_type": "code",
      "execution_count": null,
      "id": "56c7881d",
      "metadata": {
        "id": "56c7881d"
      },
      "outputs": [],
      "source": [
        "# feature 중요도\n",
        "importances_values = estimator.feature_importances_\n",
        "importances = pd.Series(importances_values, index=X_train.columns)\n",
        "top20 = importances.sort_values(ascending=False)[:20]\n",
        "plt.figure(figsize=(8, 6))\n",
        "plt.title('Feature importances Top 20')\n",
        "sns.barplot(x = top20, y = top20.index)\n",
        "plt.show()"
      ]
    },
    {
      "cell_type": "markdown",
      "id": "50816c4f",
      "metadata": {
        "id": "50816c4f"
      },
      "source": [
        "## 6. Prediction"
      ]
    },
    {
      "cell_type": "code",
      "execution_count": null,
      "id": "deeb0aa4",
      "metadata": {
        "id": "deeb0aa4"
      },
      "outputs": [],
      "source": [
        "#최종 예측\n",
        "my_fmodel = MultiOutputRegressor(estimator = estimator, n_jobs = -1).fit(X_train, y_train) # n_jobs = -1 -> 사용 가능한 모든 프로세스 / 스레드를 사용함을 의미\n",
        "preds = my_fmodel.predict(X_test)\n",
        "print('Done.')"
      ]
    },
    {
      "cell_type": "code",
      "execution_count": null,
      "id": "1b737a4d",
      "metadata": {
        "id": "1b737a4d"
      },
      "outputs": [],
      "source": [
        "preds"
      ]
    },
    {
      "cell_type": "markdown",
      "id": "7a70c0a5",
      "metadata": {
        "id": "7a70c0a5"
      },
      "source": [
        "## 7. submission"
      ]
    },
    {
      "cell_type": "code",
      "execution_count": null,
      "id": "c522f6b1",
      "metadata": {
        "id": "c522f6b1"
      },
      "outputs": [],
      "source": [
        "submit = pd.read_csv('./sample_submission.csv')"
      ]
    },
    {
      "cell_type": "code",
      "execution_count": null,
      "id": "c5eebc47",
      "metadata": {
        "id": "c5eebc47"
      },
      "outputs": [],
      "source": [
        "for idx, col in enumerate(submit.columns):\n",
        "    if col=='ID':\n",
        "        continue\n",
        "    submit[col] = preds[:,idx-1]\n",
        "print('Done.')\n"
      ]
    },
    {
      "cell_type": "code",
      "execution_count": null,
      "id": "14c7ec56",
      "metadata": {
        "id": "14c7ec56"
      },
      "outputs": [],
      "source": [
        "submit"
      ]
    },
    {
      "cell_type": "code",
      "execution_count": null,
      "id": "12444ce0",
      "metadata": {
        "id": "12444ce0"
      },
      "outputs": [],
      "source": [
        "submit.to_csv('./submit_0826_1.csv', index=False)"
      ]
    }
  ],
  "metadata": {
    "kernelspec": {
      "display_name": "Python 3 (ipykernel)",
      "language": "python",
      "name": "python3"
    },
    "language_info": {
      "codemirror_mode": {
        "name": "ipython",
        "version": 3
      },
      "file_extension": ".py",
      "mimetype": "text/x-python",
      "name": "python",
      "nbconvert_exporter": "python",
      "pygments_lexer": "ipython3",
      "version": "3.9.12"
    },
    "colab": {
      "provenance": [],
      "include_colab_link": true
    }
  },
  "nbformat": 4,
  "nbformat_minor": 5
}
